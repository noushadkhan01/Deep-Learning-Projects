{
 "cells": [
  {
   "cell_type": "markdown",
   "metadata": {},
   "source": [
    "### Copyright [Ryan Collins](https://github.com/RyanCCollins).  All rights reserved."
   ]
  },
  {
   "cell_type": "markdown",
   "metadata": {
    "collapsed": true
   },
   "source": [
    "# Image Classification\n",
    "In this project, you'll classify images from the [CIFAR-10 dataset](https://www.cs.toronto.edu/~kriz/cifar.html).  The dataset consists of airplanes, dogs, cats, and other objects. You'll preprocess the images, then train a convolutional neural network on all the samples. The images need to be normalized and the labels need to be one-hot encoded.  You'll get to apply what you learned and build a convolutional, max pooling, dropout, and fully connected layers.  At the end, you'll get to see your neural network's predictions on the sample images.\n",
    "## Get the Data\n",
    "Run the following cell to download the [CIFAR-10 dataset for python](https://www.cs.toronto.edu/~kriz/cifar-10-python.tar.gz)."
   ]
  },
  {
   "cell_type": "code",
   "execution_count": 6,
   "metadata": {
    "collapsed": false
   },
   "outputs": [
    {
     "name": "stdout",
     "output_type": "stream",
     "text": [
      "All files found!\n"
     ]
    }
   ],
   "source": [
    "\"\"\"\n",
    "DON'T MODIFY ANYTHING IN THIS CELL THAT IS BELOW THIS LINE\n",
    "\"\"\"\n",
    "from urllib.request import urlretrieve\n",
    "from os.path import isfile, isdir\n",
    "from tqdm import tqdm\n",
    "import problem_unittests as tests\n",
    "import tarfile\n",
    "\n",
    "cifar10_dataset_folder_path = 'cifar-10-batches-py'\n",
    "\n",
    "class DLProgress(tqdm):\n",
    "    last_block = 0\n",
    "\n",
    "    def hook(self, block_num=1, block_size=1, total_size=None):\n",
    "        self.total = total_size\n",
    "        self.update((block_num - self.last_block) * block_size)\n",
    "        self.last_block = block_num\n",
    "\n",
    "if not isfile('cifar-10-python.tar.gz'):\n",
    "    with DLProgress(unit='B', unit_scale=True, miniters=1, desc='CIFAR-10 Dataset') as pbar:\n",
    "        urlretrieve(\n",
    "            'https://www.cs.toronto.edu/~kriz/cifar-10-python.tar.gz',\n",
    "            'cifar-10-python.tar.gz',\n",
    "            pbar.hook)\n",
    "\n",
    "if not isdir(cifar10_dataset_folder_path):\n",
    "    with tarfile.open('cifar-10-python.tar.gz') as tar:\n",
    "        tar.extractall()\n",
    "        tar.close()\n",
    "\n",
    "\n",
    "tests.test_folder_path(cifar10_dataset_folder_path)"
   ]
  },
  {
   "cell_type": "markdown",
   "metadata": {},
   "source": [
    "## Explore the Data\n",
    "The dataset is broken into batches to prevent your machine from running out of memory.  The CIFAR-10 dataset consists of 5 batches, named `data_batch_1`, `data_batch_2`, etc.. Each batch contains the labels and images that are one of the following:\n",
    "* airplane\n",
    "* automobile\n",
    "* bird\n",
    "* cat\n",
    "* deer\n",
    "* dog\n",
    "* frog\n",
    "* horse\n",
    "* ship\n",
    "* truck\n",
    "\n",
    "Understanding a dataset is part of making predictions on the data.  Play around with the code cell below by changing the `batch_id` and `sample_id`. The `batch_id` is the id for a batch (1-5). The `sample_id` is the id for a image and label pair in the batch.\n",
    "\n",
    "Ask yourself \"What are all possible labels?\", \"What is the range of values for the image data?\", \"Are the labels in order or random?\".  Answers to questions like these will help you preprocess the data and end up with better predictions."
   ]
  },
  {
   "cell_type": "code",
   "execution_count": 7,
   "metadata": {
    "collapsed": false
   },
   "outputs": [
    {
     "name": "stdout",
     "output_type": "stream",
     "text": [
      "\n",
      "Stats of batch 1:\n",
      "Samples: 10000\n",
      "Label Counts: {0: 1005, 1: 974, 2: 1032, 3: 1016, 4: 999, 5: 937, 6: 1030, 7: 1001, 8: 1025, 9: 981}\n",
      "First 20 Labels: [6, 9, 9, 4, 1, 1, 2, 7, 8, 3, 4, 7, 7, 2, 9, 9, 9, 3, 2, 6]\n",
      "\n",
      "Example of Image 5:\n",
      "Image - Min Value: 0 Max Value: 252\n",
      "Image - Shape: (32, 32, 3)\n",
      "Label - Label Id: 1 Name: automobile\n"
     ]
    },
    {
     "data": {
      "image/png": "[encoded data removed]",
      "text/plain": [
       "<matplotlib.figure.Figure at 0x11852fc88>"
      ]
     },
     "metadata": {
      "image/png": {
       "height": 250,
       "width": 253
      }
     },
     "output_type": "display_data"
    }
   ],
   "source": [
    "%matplotlib inline\n",
    "%config InlineBackend.figure_format = 'retina'\n",
    "\n",
    "import helper\n",
    "import numpy as np\n",
    "\n",
    "# Explore the dataset\n",
    "batch_id = 1\n",
    "sample_id = 5\n",
    "helper.display_stats(cifar10_dataset_folder_path, batch_id, sample_id)"
   ]
  },
  {
   "cell_type": "markdown",
   "metadata": {},
   "source": [
    "## Implement Preprocess Functions\n",
    "### Normalize\n",
    "In the cell below, implement the `normalize` function to take in image data, `x`, and return it as a normalized Numpy array. The values should be in the range of 0 to 1, inclusive.  The return object should be the same shape as `x`."
   ]
  },
  {
   "cell_type": "code",
   "execution_count": 8,
   "metadata": {
    "collapsed": false
   },
   "outputs": [
    {
     "name": "stdout",
     "output_type": "stream",
     "text": [
      "Tests Passed\n"
     ]
    }
   ],
   "source": [
    "def normalize(x):\n",
    "    \"\"\"\n",
    "    Normalize a list of sample image data in the range of 0 to 1\n",
    "    : x: List of image data.  The image shape is (32, 32, 3)\n",
    "    : return: Numpy array of normalize data\n",
    "    \"\"\"\n",
    "    # TODO: Implement Function\n",
    "    return (x - np.min(x)) / (np.max(x) - np.min(x))\n",
    "\n",
    "\n",
    "\"\"\"\n",
    "DON'T MODIFY ANYTHING IN THIS CELL THAT IS BELOW THIS LINE\n",
    "\"\"\"\n",
    "tests.test_normalize(normalize)"
   ]
  },
  {
   "cell_type": "markdown",
   "metadata": {},
   "source": [
    "### One-hot encode\n",
    "Just like the previous code cell, you'll be implementing a function for preprocessing.  This time, you'll implement the `one_hot_encode` function. The input, `x`, are a list of labels.  Implement the function to return the list of labels as One-Hot encoded Numpy array.  The possible values for labels are 0 to 9. The one-hot encoding function should return the same encoding for each value between each call to `one_hot_encode`.  Make sure to save the map of encodings outside the function.\n",
    "\n",
    "Hint: Don't reinvent the wheel."
   ]
  },
  {
   "cell_type": "code",
   "execution_count": 9,
   "metadata": {
    "collapsed": false
   },
   "outputs": [
    {
     "name": "stdout",
     "output_type": "stream",
     "text": [
      "Tests Passed\n"
     ]
    }
   ],
   "source": [
    "def one_hot_encode(x):\n",
    "    \"\"\"\n",
    "    One hot encode a list of sample labels. Return a one-hot encoded vector for each label.\n",
    "    : x: List of sample Labels\n",
    "    : return: Numpy array of one-hot encoded labels\n",
    "    \"\"\"\n",
    "    # FROM https://discussions.udacity.com/t/one-hot-encoding-help/224505/11?u=ryan.collins\n",
    "    max_vals = 10\n",
    "    return np.eye(max_vals)[x]\n",
    "\n",
    "\n",
    "\"\"\"\n",
    "DON'T MODIFY ANYTHING IN THIS CELL THAT IS BELOW THIS LINE\n",
    "\"\"\"\n",
    "tests.test_one_hot_encode(one_hot_encode)"
   ]
  },
  {
   "cell_type": "markdown",
   "metadata": {},
   "source": [
    "### Randomize Data\n",
    "As you saw from exploring the data above, the order of the samples are randomized.  It doesn't hurt to randomize it again, but you don't need to for this dataset."
   ]
  },
  {
   "cell_type": "markdown",
   "metadata": {},
   "source": [
    "## Preprocess all the data and save it\n",
    "Running the code cell below will preprocess all the CIFAR-10 data and save it to file. The code below also uses 10% of the training data for validation."
   ]
  },
  {
   "cell_type": "code",
   "execution_count": 10,
   "metadata": {
    "collapsed": false
   },
   "outputs": [],
   "source": [
    "\"\"\"\n",
    "DON'T MODIFY ANYTHING IN THIS CELL\n",
    "\"\"\"\n",
    "# Preprocess Training, Validation, and Testing Data\n",
    "helper.preprocess_and_save_data(cifar10_dataset_folder_path, normalize, one_hot_encode)"
   ]
  },
  {
   "cell_type": "markdown",
   "metadata": {},
   "source": [
    "# Check Point\n",
    "This is your first checkpoint.  If you ever decide to come back to this notebook or have to restart the notebook, you can start from here.  The preprocessed data has been saved to disk."
   ]
  },
  {
   "cell_type": "code",
   "execution_count": 11,
   "metadata": {
    "collapsed": true
   },
   "outputs": [],
   "source": [
    "\"\"\"\n",
    "DON'T MODIFY ANYTHING IN THIS CELL\n",
    "\"\"\"\n",
    "import pickle\n",
    "import problem_unittests as tests\n",
    "import helper\n",
    "\n",
    "# Load the Preprocessed Validation data\n",
    "valid_features, valid_labels = pickle.load(open('preprocess_validation.p', mode='rb'))"
   ]
  },
  {
   "cell_type": "markdown",
   "metadata": {},
   "source": [
    "## Build the network\n",
    "For the neural network, you'll build each layer into a function.  Most of the code you've seen has been outside of functions. To test your code more thoroughly, we require that you put each layer in a function.  This allows us to give you better feedback and test for simple mistakes using our unittests before you submit your project.\n",
    "\n",
    "If you're finding it hard to dedicate enough time for this course a week, we've provided a small shortcut to this part of the project. In the next couple of problems, you'll have the option to use [TensorFlow Layers](https://www.tensorflow.org/api_docs/python/tf/layers) or [TensorFlow Layers (contrib)](https://www.tensorflow.org/api_guides/python/contrib.layers) to build each layer, except \"Convolutional & Max Pooling\" layer.  TF Layers is similar to Keras's and TFLearn's abstraction to layers, so it's easy to pickup.\n",
    "\n",
    "If you would like to get the most of this course, try to solve all the problems without TF Layers.  Let's begin!\n",
    "### Input\n",
    "The neural network needs to read the image data, one-hot encoded labels, and dropout keep probability. Implement the following functions\n",
    "* Implement `neural_net_image_input`\n",
    " * Return a [TF Placeholder](https://www.tensorflow.org/api_docs/python/tf/placeholder)\n",
    " * Set the shape using `image_shape` with batch size set to `None`.\n",
    " * Name the TensorFlow placeholder \"x\" using the TensorFlow `name` parameter in the [TF Placeholder](https://www.tensorflow.org/api_docs/python/tf/placeholder).\n",
    "* Implement `neural_net_label_input`\n",
    " * Return a [TF Placeholder](https://www.tensorflow.org/api_docs/python/tf/placeholder)\n",
    " * Set the shape using `n_classes` with batch size set to `None`.\n",
    " * Name the TensorFlow placeholder \"y\" using the TensorFlow `name` parameter in the [TF Placeholder](https://www.tensorflow.org/api_docs/python/tf/placeholder).\n",
    "* Implement `neural_net_keep_prob_input`\n",
    " * Return a [TF Placeholder](https://www.tensorflow.org/api_docs/python/tf/placeholder) for dropout keep probability.\n",
    " * Name the TensorFlow placeholder \"keep_prob\" using the TensorFlow `name` parameter in the [TF Placeholder](https://www.tensorflow.org/api_docs/python/tf/placeholder).\n",
    "\n",
    "These names will be used at the end of the project to load your saved model.\n",
    "\n",
    "Note: `None` for shapes in TensorFlow allow for a dynamic size."
   ]
  },
  {
   "cell_type": "code",
   "execution_count": 12,
   "metadata": {
    "collapsed": false
   },
   "outputs": [
    {
     "name": "stdout",
     "output_type": "stream",
     "text": [
      "Image Input Tests Passed.\n",
      "Label Input Tests Passed.\n",
      "Keep Prob Tests Passed.\n"
     ]
    }
   ],
   "source": [
    "import tensorflow as tf\n",
    "\n",
    "def neural_net_image_input(image_shape):\n",
    "    \"\"\"\n",
    "    Return a Tensor for a bach of image input\n",
    "    : image_shape: Shape of the images\n",
    "    : return: Tensor for image input.\n",
    "    \"\"\"\n",
    "    # TODO: Implement Function\n",
    "    return tf.placeholder(tf.float32, (None, *image_shape), name=\"x\")\n",
    "\n",
    "\n",
    "def neural_net_label_input(n_classes):\n",
    "    \"\"\"\n",
    "    Return a Tensor for a batch of label input\n",
    "    : n_classes: Number of classes\n",
    "    : return: Tensor for label input.\n",
    "    \"\"\"\n",
    "    # TODO: Implement Function\n",
    "    return tf.placeholder(tf.float32, (None, n_classes), name=\"y\")\n",
    "\n",
    "\n",
    "def neural_net_keep_prob_input():\n",
    "    \"\"\"\n",
    "    Return a Tensor for keep probability\n",
    "    : return: Tensor for keep probability.\n",
    "    \"\"\"\n",
    "    # TODO: Implement Function\n",
    "    return tf.placeholder(tf.float32, name=\"keep_prob\")\n",
    "\n",
    "\n",
    "\"\"\"\n",
    "DON'T MODIFY ANYTHING IN THIS CELL THAT IS BELOW THIS LINE\n",
    "\"\"\"\n",
    "tf.reset_default_graph()\n",
    "tests.test_nn_image_inputs(neural_net_image_input)\n",
    "tests.test_nn_label_inputs(neural_net_label_input)\n",
    "tests.test_nn_keep_prob_inputs(neural_net_keep_prob_input)"
   ]
  },
  {
   "cell_type": "markdown",
   "metadata": {},
   "source": [
    "### Convolution and Max Pooling Layer\n",
    "Convolution layers have a lot of success with images. For this code cell, you should implement the function `conv2d_maxpool` to apply convolution then max pooling:\n",
    "* Create the weight and bias using `conv_ksize`, `conv_num_outputs` and the shape of `x_tensor`.\n",
    "* Apply a convolution to `x_tensor` using weight and `conv_strides`.\n",
    " * We recommend you use same padding, but you're welcome to use any padding.\n",
    "* Add bias\n",
    "* Add a nonlinear activation to the convolution.\n",
    "* Apply Max Pooling using `pool_ksize` and `pool_strides`.\n",
    " * We recommend you use same padding, but you're welcome to use any padding.\n",
    "\n",
    "Note: You **can't** use [TensorFlow Layers](https://www.tensorflow.org/api_docs/python/tf/layers) or [TensorFlow Layers (contrib)](https://www.tensorflow.org/api_guides/python/contrib.layers) for this layer.  You're free to use any TensorFlow package for all the other layers."
   ]
  },
  {
   "cell_type": "code",
   "execution_count": 14,
   "metadata": {
    "collapsed": false,
    "scrolled": true
   },
   "outputs": [
    {
     "name": "stdout",
     "output_type": "stream",
     "text": [
      "Tests Passed\n"
     ]
    }
   ],
   "source": [
    "def conv2d_maxpool(x_tensor, conv_num_outputs, conv_ksize, conv_strides, pool_ksize, pool_strides):\n",
    "    \"\"\"\n",
    "    Apply convolution then max pooling to x_tensor\n",
    "    :param x_tensor: TensorFlow Tensor\n",
    "    :param conv_num_outputs: Number of outputs for the convolutional layer\n",
    "    :param conv_strides: Stride 2-D Tuple for convolution\n",
    "    :param pool_ksize: kernal size 2-D Tuple for pool\n",
    "    :param pool_strides: Stride 2-D Tuple for pool\n",
    "    : return: A tensor that represents convolution and max pooling of x_tensor\n",
    "    \"\"\"\n",
    "    # TODO: Implement Function\n",
    "    input_shape = int(x_tensor.shape[3])\n",
    "    output_shape = conv_num_outputs\n",
    "    weight_shape = [*conv_ksize, input_shape, output_shape]\n",
    "    w = tf.Variable(tf.random_normal(weight_shape, stddev=0.1))\n",
    "    b = tf.Variable(tf.zeros(output_shape))\n",
    "    \n",
    "    # Initialize the 2d conv layer\n",
    "    conv_net = tf.nn.conv2d(x_tensor, w, [1, *conv_strides, 1], padding=\"SAME\")\n",
    "    \n",
    "    # Add the bias\n",
    "    conv_net = tf.nn.bias_add(conv_net, b)\n",
    "    \n",
    "    # Add nonlinear activiation with relu\n",
    "    conv_net = tf.nn.relu(conv_net)\n",
    "    \n",
    "    # Max pooling\n",
    "    mp_strides = [1, *pool_strides, 1]\n",
    "    mp_ksize = [1, *conv_ksize, 1]\n",
    "    conv_net = tf.nn.max_pool(conv_net, mp_ksize, mp_strides, padding=\"SAME\")\n",
    "    \n",
    "    return conv_net\n",
    "\n",
    "\"\"\"\n",
    "DON'T MODIFY ANYTHING IN THIS CELL THAT IS BELOW THIS LINE\n",
    "\"\"\"\n",
    "tests.test_con_pool(conv2d_maxpool)"
   ]
  },
  {
   "cell_type": "markdown",
   "metadata": {},
   "source": [
    "### Flatten Layer\n",
    "Implement the `flatten` function to change the dimension of `x_tensor` from a 4-D tensor to a 2-D tensor.  The output should be the shape (*Batch Size*, *Flattened Image Size*). You can use [TensorFlow Layers](https://www.tensorflow.org/api_docs/python/tf/layers) or [TensorFlow Layers (contrib)](https://www.tensorflow.org/api_guides/python/contrib.layers) for this layer."
   ]
  },
  {
   "cell_type": "code",
   "execution_count": 16,
   "metadata": {
    "collapsed": false
   },
   "outputs": [
    {
     "name": "stdout",
     "output_type": "stream",
     "text": [
      "Tests Passed\n"
     ]
    }
   ],
   "source": [
    "def flatten(x_tensor):\n",
    "    \"\"\"\n",
    "    Flatten x_tensor to (Batch Size, Flattened Image Size)\n",
    "    : x_tensor: A tensor of size (Batch Size, ...), where ... are the image dimensions.\n",
    "    : return: A tensor of size (Batch Size, Flattened Image Size).\n",
    "    \"\"\"\n",
    "    # TODO: Implement Function\n",
    "    return tf.contrib.layers.flatten(x_tensor)\n",
    "\n",
    "\n",
    "\"\"\"\n",
    "DON'T MODIFY ANYTHING IN THIS CELL THAT IS BELOW THIS LINE\n",
    "\"\"\"\n",
    "tests.test_flatten(flatten)"
   ]
  },
  {
   "cell_type": "markdown",
   "metadata": {},
   "source": [
    "### Fully-Connected Layer\n",
    "Implement the `fully_conn` function to apply a fully connected layer to `x_tensor` with the shape (*Batch Size*, *num_outputs*). You can use [TensorFlow Layers](https://www.tensorflow.org/api_docs/python/tf/layers) or [TensorFlow Layers (contrib)](https://www.tensorflow.org/api_guides/python/contrib.layers) for this layer."
   ]
  },
  {
   "cell_type": "code",
   "execution_count": 35,
   "metadata": {
    "collapsed": true
   },
   "outputs": [],
   "source": [
    "def get_w_b(x_tensor, num_outputs):\n",
    "    \"\"\"\n",
    "    Since both the input / output layer require weight / biases,\n",
    "    this will return a tuple containing them, a lot more dry this way!\n",
    "    : x_tensor: A 2-D tensor where the first dimension is batch size.\n",
    "    : num_outputs: The number of output that the new tensor should be.\n",
    "    : return: A tuple with the weight / biases\n",
    "    \"\"\"\n",
    "    weight_shape = (int(x_tensor.shape[1]), num_outputs)\n",
    "    w = tf.Variable(tf.random_normal(weight_shape, stddev=0.1))\n",
    "    b = tf.Variable(tf.zeros(num_outputs))\n",
    "    return (w, b)"
   ]
  },
  {
   "cell_type": "code",
   "execution_count": 36,
   "metadata": {
    "collapsed": false
   },
   "outputs": [
    {
     "name": "stdout",
     "output_type": "stream",
     "text": [
      "Tests Passed\n"
     ]
    }
   ],
   "source": [
    "def fully_conn(x_tensor, num_outputs):\n",
    "    \"\"\"\n",
    "    Apply a fully connected layer to x_tensor using weight and bias\n",
    "    : x_tensor: A 2-D tensor where the first dimension is batch size.\n",
    "    : num_outputs: The number of output that the new tensor should be.\n",
    "    : return: A 2-D tensor where the second dimension is num_outputs.\n",
    "    \"\"\"\n",
    "    # TODO: Implement Function\n",
    "    #Create the weights / bias variables\n",
    "    (w, b) = get_w_b(x_tensor, num_outputs)\n",
    "    \n",
    "    # Hook up and return the layer\n",
    "    # Matrix multiply the input tensor with the weights and add the bias\n",
    "    layer = tf.add(tf.matmul(x_tensor, w), b)\n",
    "    \n",
    "    # Hookup relu hidden layer\n",
    "    layer = tf.nn.relu(layer)\n",
    "    return layer\n",
    "\n",
    "\n",
    "\"\"\"\n",
    "DON'T MODIFY ANYTHING IN THIS CELL THAT IS BELOW THIS LINE\n",
    "\"\"\"\n",
    "tests.test_fully_conn(fully_conn)"
   ]
  },
  {
   "cell_type": "markdown",
   "metadata": {},
   "source": [
    "### Output Layer\n",
    "Implement the `output` function to apply a fully connected layer to `x_tensor` with the shape (*Batch Size*, *num_outputs*). You can use [TensorFlow Layers](https://www.tensorflow.org/api_docs/python/tf/layers) or [TensorFlow Layers (contrib)](https://www.tensorflow.org/api_guides/python/contrib.layers) for this layer.\n",
    "\n",
    "Note: Activation, softmax, or cross entropy shouldn't be applied to this."
   ]
  },
  {
   "cell_type": "code",
   "execution_count": 38,
   "metadata": {
    "collapsed": false
   },
   "outputs": [
    {
     "name": "stdout",
     "output_type": "stream",
     "text": [
      "Tests Passed\n"
     ]
    }
   ],
   "source": [
    "def output(x_tensor, num_outputs):\n",
    "    \"\"\"\n",
    "    Apply a output layer to x_tensor using weight and bias\n",
    "    : x_tensor: A 2-D tensor where the first dimension is batch size.\n",
    "    : num_outputs: The number of output that the new tensor should be.\n",
    "    : return: A 2-D tensor where the second dimension is num_outputs.\n",
    "    \"\"\"\n",
    "    # TODO: Implement Function\n",
    "    (w, b) = get_w_b(x_tensor, num_outputs)\n",
    "    layer = tf.add(tf.matmul(x_tensor, w), b)\n",
    "    return layer\n",
    "\n",
    "\n",
    "\"\"\"\n",
    "DON'T MODIFY ANYTHING IN THIS CELL THAT IS BELOW THIS LINE\n",
    "\"\"\"\n",
    "tests.test_output(output)"
   ]
  },
  {
   "cell_type": "markdown",
   "metadata": {},
   "source": [
    "### Create Convolutional Model\n",
    "Implement the function `conv_net` to create a convolutional neural network model. The function takes in a batch of images, `x`, and outputs logits.  Use the layers you created above to create this model:\n",
    "\n",
    "* Apply 1, 2, or 3 Convolution and Max Pool layers\n",
    "* Apply a Flatten Layer\n",
    "* Apply 1, 2, or 3 Fully Connected Layers\n",
    "* Apply an Output Layer\n",
    "* Return the output\n",
    "* Apply [TensorFlow's Dropout](https://www.tensorflow.org/api_docs/python/tf/nn/dropout) to one or more layers in the model using `keep_prob`. "
   ]
  },
  {
   "cell_type": "code",
   "execution_count": 52,
   "metadata": {
    "collapsed": false
   },
   "outputs": [
    {
     "name": "stdout",
     "output_type": "stream",
     "text": [
      "Neural Network Built!\n"
     ]
    }
   ],
   "source": [
    "def conv_net(x, keep_prob):\n",
    "    \"\"\"\n",
    "    Create a convolutional neural network model\n",
    "    : x: Placeholder tensor that holds image data.\n",
    "    : keep_prob: Placeholder tensor that hold dropout keep probability.\n",
    "    : return: Tensor that represents logits\n",
    "    \"\"\"\n",
    "    # Hyper parameters\n",
    "    conv_num_outputs_layer_1 = 64\n",
    "    conv_ksize_layer_1 = (3, 3)\n",
    "    conv_strides_layer_1 = (1, 1)\n",
    "    pool_ksize_layer_1 = (2, 2)\n",
    "    pool_strides_layer_1 = (2, 2)\n",
    "    \n",
    "    conv_num_outputs_layer_2 = 64\n",
    "    conv_ksize_layer_2 = (3, 3)\n",
    "    conv_strides_layer_2 = (2, 2)\n",
    "    pool_ksize_layer_2 = (2, 2)\n",
    "    pool_strides_layer_2 = (2, 2)\n",
    "    \n",
    "    conv_num_outputs_layer_3 = 64\n",
    "    conv_ksize_layer_3 = (3, 3)\n",
    "    conv_strides_layer_3 = (1, 1)\n",
    "    pool_ksize_layer_3 = (2, 2)\n",
    "    pool_strides_layer_3 = (2, 2)\n",
    "    \n",
    "    fc_layer_1_num_outputs = 512\n",
    "    fc_layer_2_num_outputs = 256\n",
    "    output_num_outputs = 10 # ten classes\n",
    "    \n",
    "    # TODO: Apply 1, 2, or 3 Convolution and Max Pool layers\n",
    "    #    Play around with different number of outputs, kernel size and stride\n",
    "    # Function Definition from Above:\n",
    "    #    conv2d_maxpool(x_tensor, conv_num_outputs, conv_ksize, conv_strides, pool_ksize, pool_strides)\n",
    "    conv_layer_1 = conv2d_maxpool(x,\n",
    "                           conv_num_outputs_layer_1,\n",
    "                           conv_ksize_layer_1,\n",
    "                           conv_strides_layer_1,\n",
    "                           pool_ksize_layer_1,\n",
    "                           pool_strides_layer_1)\n",
    "    conv_layer_2 = conv2d_maxpool(conv_layer_1,\n",
    "                           conv_num_outputs_layer_2,\n",
    "                           conv_ksize_layer_2,\n",
    "                           conv_strides_layer_2,\n",
    "                           pool_ksize_layer_2,\n",
    "                           pool_strides_layer_2)\n",
    "    conv_layer_3 = conv2d_maxpool(conv_layer_2,\n",
    "                           conv_num_outputs_layer_3,\n",
    "                           conv_ksize_layer_3,\n",
    "                           conv_strides_layer_3,\n",
    "                           pool_ksize_layer_3,\n",
    "                           pool_strides_layer_3)\n",
    "\n",
    "    # TODO: Apply a Flatten Layer\n",
    "    # Function Definition from Above:\n",
    "    #   flatten(x_tensor)\n",
    "    flatten_layer = flatten(conv_layer_3)\n",
    "\n",
    "    # TODO: Apply 1, 2, or 3 Fully Connected Layers\n",
    "    #    Play around with different number of outputs\n",
    "    # Function Definition from Above:\n",
    "    #   fully_conn(x_tensor, num_outputs)\n",
    "    # Layer 1\n",
    "    fc_layer_1 = fully_conn(flatten_layer, fc_layer_1_num_outputs)\n",
    "    fc_layer_1 = tf.nn.dropout(fc_layer_1, keep_prob)\n",
    "    \n",
    "    # Layer 2\n",
    "    fc_layer_2 = fully_conn(fc_layer_1, fc_layer_2_num_outputs)\n",
    "    fc_layer_2 = tf.nn.dropout(fc_layer_2, keep_prob)\n",
    "    \n",
    "    # TODO: Apply an Output Layer\n",
    "    #    Set this to the number of classes\n",
    "    # Function Definition from Above:\n",
    "    #   output(x_tensor, num_outputs)\n",
    "    output_layer = output(fc_layer_2, output_num_outputs)\n",
    "    \n",
    "    # TODO: return output\n",
    "    return output_layer\n",
    "\n",
    "\n",
    "\"\"\"\n",
    "DON'T MODIFY ANYTHING IN THIS CELL THAT IS BELOW THIS LINE\n",
    "\"\"\"\n",
    "\n",
    "##############################\n",
    "## Build the Neural Network ##\n",
    "##############################\n",
    "\n",
    "# Remove previous weights, bias, inputs, etc..\n",
    "tf.reset_default_graph()\n",
    "\n",
    "# Inputs\n",
    "x = neural_net_image_input((32, 32, 3))\n",
    "y = neural_net_label_input(10)\n",
    "keep_prob = neural_net_keep_prob_input()\n",
    "\n",
    "# Model\n",
    "logits = conv_net(x, keep_prob)\n",
    "\n",
    "# Name logits Tensor, so that is can be loaded from disk after training\n",
    "logits = tf.identity(logits, name='logits')\n",
    "\n",
    "# Loss and Optimizer\n",
    "cost = tf.reduce_mean(tf.nn.softmax_cross_entropy_with_logits(logits=logits, labels=y))\n",
    "optimizer = tf.train.AdamOptimizer().minimize(cost)\n",
    "\n",
    "# Accuracy\n",
    "correct_pred = tf.equal(tf.argmax(logits, 1), tf.argmax(y, 1))\n",
    "accuracy = tf.reduce_mean(tf.cast(correct_pred, tf.float32), name='accuracy')\n",
    "\n",
    "tests.test_conv_net(conv_net)"
   ]
  },
  {
   "cell_type": "markdown",
   "metadata": {},
   "source": [
    "## Train the Neural Network\n",
    "### Single Optimization\n",
    "Implement the function `train_neural_network` to do a single optimization.  The optimization should use `optimizer` to optimize in `session` with a `feed_dict` of the following:\n",
    "* `x` for image input\n",
    "* `y` for labels\n",
    "* `keep_prob` for keep probability for dropout\n",
    "\n",
    "This function will be called for each batch, so `tf.global_variables_initializer()` has already been called.\n",
    "\n",
    "Note: Nothing needs to be returned. This function is only optimizing the neural network."
   ]
  },
  {
   "cell_type": "code",
   "execution_count": 53,
   "metadata": {
    "collapsed": false
   },
   "outputs": [
    {
     "name": "stdout",
     "output_type": "stream",
     "text": [
      "Tests Passed\n"
     ]
    }
   ],
   "source": [
    "def train_neural_network(session, optimizer, keep_probability, feature_batch, label_batch):\n",
    "    \"\"\"\n",
    "    Optimize the session on a batch of images and labels\n",
    "    : session: Current TensorFlow session\n",
    "    : optimizer: TensorFlow optimizer function\n",
    "    : keep_probability: keep probability\n",
    "    : feature_batch: Batch of Numpy image data\n",
    "    : label_batch: Batch of Numpy label data\n",
    "    \"\"\"\n",
    "    # TODO: Implement Function\n",
    "    feed_dict = { x: feature_batch, y: label_batch, keep_prob: keep_probability }\n",
    "    session.run(optimizer, feed_dict=feed_dict)\n",
    "\n",
    "\n",
    "\"\"\"\n",
    "DON'T MODIFY ANYTHING IN THIS CELL THAT IS BELOW THIS LINE\n",
    "\"\"\"\n",
    "tests.test_train_nn(train_neural_network)"
   ]
  },
  {
   "cell_type": "markdown",
   "metadata": {},
   "source": [
    "### Show Stats\n",
    "Implement the function `print_stats` to print loss and validation accuracy.  Use the global variables `valid_features` and `valid_labels` to calculate validation accuracy.  Use a keep probability of `1.0` to calculate the loss and validation accuracy."
   ]
  },
  {
   "cell_type": "code",
   "execution_count": 54,
   "metadata": {
    "collapsed": false
   },
   "outputs": [],
   "source": [
    "def print_stats(session, feature_batch, label_batch, cost, accuracy):\n",
    "    \"\"\"\n",
    "    Print information about loss and validation accuracy\n",
    "    : session: Current TensorFlow session\n",
    "    : feature_batch: Batch of Numpy image data\n",
    "    : label_batch: Batch of Numpy label data\n",
    "    : cost: TensorFlow cost function\n",
    "    : accuracy: TensorFlow accuracy function\n",
    "    \"\"\"\n",
    "    # TODO: Implement Function\n",
    "    feed_dict_loss = { x: feature_batch, y: label_batch, keep_prob: 1.0 }\n",
    "    loss = session.run(cost, feed_dict=feed_dict_loss)\n",
    "    \n",
    "    feed_dict_accuracy = { x: valid_features, y: valid_labels, keep_prob: 1.0 }\n",
    "    valid_accuracy = session.run(accuracy, feed_dict=feed_dict_accuracy)\n",
    "    \n",
    "    print('Loss: {:.4f} Validation Accuracy: {:.4f}'.format(loss, valid_accuracy))"
   ]
  },
  {
   "cell_type": "markdown",
   "metadata": {},
   "source": [
    "### Hyperparameters\n",
    "Tune the following parameters:\n",
    "* Set `epochs` to the number of iterations until the network stops learning or start overfitting\n",
    "* Set `batch_size` to the highest number that your machine has memory for.  Most people set them to common sizes of memory:\n",
    " * 64\n",
    " * 128\n",
    " * 256\n",
    " * ...\n",
    "* Set `keep_probability` to the probability of keeping a node using dropout"
   ]
  },
  {
   "cell_type": "code",
   "execution_count": 55,
   "metadata": {
    "collapsed": true
   },
   "outputs": [],
   "source": [
    "# TODO: Tune Parameters\n",
    "epochs = 50\n",
    "batch_size = 256\n",
    "keep_probability = 0.7"
   ]
  },
  {
   "cell_type": "markdown",
   "metadata": {},
   "source": [
    "### Train on a Single CIFAR-10 Batch\n",
    "Instead of training the neural network on all the CIFAR-10 batches of data, let's use a single batch. This should save time while you iterate on the model to get a better accuracy.  Once the final validation accuracy is 50% or greater, run the model on all the data in the next section."
   ]
  },
  {
   "cell_type": "code",
   "execution_count": 56,
   "metadata": {
    "collapsed": false
   },
   "outputs": [
    {
     "name": "stdout",
     "output_type": "stream",
     "text": [
      "Checking the Training on a Single Batch...\n",
      "Epoch  1, CIFAR-10 Batch 1:  Loss: 2.1458 Validation Accuracy: 0.2806\n",
      "Epoch  2, CIFAR-10 Batch 1:  Loss: 1.8121 Validation Accuracy: 0.3464\n",
      "Epoch  3, CIFAR-10 Batch 1:  Loss: 1.5778 Validation Accuracy: 0.3758\n",
      "Epoch  4, CIFAR-10 Batch 1:  Loss: 1.4077 Validation Accuracy: 0.4054\n",
      "Epoch  5, CIFAR-10 Batch 1:  Loss: 1.3696 Validation Accuracy: 0.4180\n",
      "Epoch  6, CIFAR-10 Batch 1:  Loss: 1.1589 Validation Accuracy: 0.4556\n",
      "Epoch  7, CIFAR-10 Batch 1:  Loss: 1.0627 Validation Accuracy: 0.4476\n",
      "Epoch  8, CIFAR-10 Batch 1:  Loss: 1.0038 Validation Accuracy: 0.4608\n",
      "Epoch  9, CIFAR-10 Batch 1:  Loss: 0.9758 Validation Accuracy: 0.4374\n",
      "Epoch 10, CIFAR-10 Batch 1:  Loss: 0.9049 Validation Accuracy: 0.4662\n",
      "Epoch 11, CIFAR-10 Batch 1:  Loss: 0.8210 Validation Accuracy: 0.5044\n",
      "Epoch 12, CIFAR-10 Batch 1:  Loss: 0.7528 Validation Accuracy: 0.5034\n",
      "Epoch 13, CIFAR-10 Batch 1:  Loss: 0.6851 Validation Accuracy: 0.4958\n",
      "Epoch 14, CIFAR-10 Batch 1:  Loss: 0.6418 Validation Accuracy: 0.4820\n",
      "Epoch 15, CIFAR-10 Batch 1:  Loss: 0.6597 Validation Accuracy: 0.4794\n",
      "Epoch 16, CIFAR-10 Batch 1:  Loss: 0.6001 Validation Accuracy: 0.4916\n",
      "Epoch 17, CIFAR-10 Batch 1:  Loss: 0.5652 Validation Accuracy: 0.5028\n",
      "Epoch 18, CIFAR-10 Batch 1:  Loss: 0.5208 Validation Accuracy: 0.5052\n",
      "Epoch 19, CIFAR-10 Batch 1:  Loss: 0.4908 Validation Accuracy: 0.5174\n",
      "Epoch 20, CIFAR-10 Batch 1:  Loss: 0.4487 Validation Accuracy: 0.5254\n",
      "Epoch 21, CIFAR-10 Batch 1:  Loss: 0.4031 Validation Accuracy: 0.5216\n",
      "Epoch 22, CIFAR-10 Batch 1:  Loss: 0.3558 Validation Accuracy: 0.5242\n",
      "Epoch 23, CIFAR-10 Batch 1:  Loss: 0.3549 Validation Accuracy: 0.5244\n",
      "Epoch 24, CIFAR-10 Batch 1:  Loss: 0.3239 Validation Accuracy: 0.5132\n",
      "Epoch 25, CIFAR-10 Batch 1:  Loss: 0.2942 Validation Accuracy: 0.5192\n",
      "Epoch 26, CIFAR-10 Batch 1:  Loss: 0.3361 Validation Accuracy: 0.5132\n",
      "Epoch 27, CIFAR-10 Batch 1:  Loss: 0.2884 Validation Accuracy: 0.5216\n",
      "Epoch 28, CIFAR-10 Batch 1:  Loss: 0.2464 Validation Accuracy: 0.5156\n",
      "Epoch 29, CIFAR-10 Batch 1:  Loss: 0.2323 Validation Accuracy: 0.5112\n",
      "Epoch 30, CIFAR-10 Batch 1:  Loss: 0.2344 Validation Accuracy: 0.5050\n",
      "Epoch 31, CIFAR-10 Batch 1:  Loss: 0.1933 Validation Accuracy: 0.5004\n",
      "Epoch 32, CIFAR-10 Batch 1:  Loss: 0.1830 Validation Accuracy: 0.5258\n",
      "Epoch 33, CIFAR-10 Batch 1:  Loss: 0.1795 Validation Accuracy: 0.5350\n",
      "Epoch 34, CIFAR-10 Batch 1:  Loss: 0.1705 Validation Accuracy: 0.5342\n",
      "Epoch 35, CIFAR-10 Batch 1:  Loss: 0.1599 Validation Accuracy: 0.5236\n",
      "Epoch 36, CIFAR-10 Batch 1:  Loss: 0.1488 Validation Accuracy: 0.5296\n",
      "Epoch 37, CIFAR-10 Batch 1:  Loss: 0.1758 Validation Accuracy: 0.5054\n",
      "Epoch 38, CIFAR-10 Batch 1:  Loss: 0.1156 Validation Accuracy: 0.5358\n",
      "Epoch 39, CIFAR-10 Batch 1:  Loss: 0.0955 Validation Accuracy: 0.5204\n",
      "Epoch 40, CIFAR-10 Batch 1:  Loss: 0.1049 Validation Accuracy: 0.5260\n",
      "Epoch 41, CIFAR-10 Batch 1:  Loss: 0.1356 Validation Accuracy: 0.5048\n",
      "Epoch 42, CIFAR-10 Batch 1:  Loss: 0.1286 Validation Accuracy: 0.5026\n",
      "Epoch 43, CIFAR-10 Batch 1:  Loss: 0.1523 Validation Accuracy: 0.4952\n",
      "Epoch 44, CIFAR-10 Batch 1:  Loss: 0.1528 Validation Accuracy: 0.5052\n",
      "Epoch 45, CIFAR-10 Batch 1:  Loss: 0.1023 Validation Accuracy: 0.5136\n",
      "Epoch 46, CIFAR-10 Batch 1:  Loss: 0.0784 Validation Accuracy: 0.5138\n",
      "Epoch 47, CIFAR-10 Batch 1:  Loss: 0.0827 Validation Accuracy: 0.5114\n",
      "Epoch 48, CIFAR-10 Batch 1:  Loss: 0.0663 Validation Accuracy: 0.5232\n",
      "Epoch 49, CIFAR-10 Batch 1:  Loss: 0.0678 Validation Accuracy: 0.5108\n",
      "Epoch 50, CIFAR-10 Batch 1:  Loss: 0.0536 Validation Accuracy: 0.5244\n"
     ]
    }
   ],
   "source": [
    "\"\"\"\n",
    "DON'T MODIFY ANYTHING IN THIS CELL\n",
    "\"\"\"\n",
    "print('Checking the Training on a Single Batch...')\n",
    "with tf.Session() as sess:\n",
    "    # Initializing the variables\n",
    "    sess.run(tf.global_variables_initializer())\n",
    "    \n",
    "    # Training cycle\n",
    "    for epoch in range(epochs):\n",
    "        batch_i = 1\n",
    "        for batch_features, batch_labels in helper.load_preprocess_training_batch(batch_i, batch_size):\n",
    "            train_neural_network(sess, optimizer, keep_probability, batch_features, batch_labels)\n",
    "        print('Epoch {:>2}, CIFAR-10 Batch {}:  '.format(epoch + 1, batch_i), end='')\n",
    "        print_stats(sess, batch_features, batch_labels, cost, accuracy)"
   ]
  },
  {
   "cell_type": "markdown",
   "metadata": {},
   "source": [
    "### Fully Train the Model\n",
    "Now that you got a good accuracy with a single CIFAR-10 batch, try it with all five batches."
   ]
  },
  {
   "cell_type": "code",
   "execution_count": 57,
   "metadata": {
    "collapsed": false
   },
   "outputs": [
    {
     "name": "stdout",
     "output_type": "stream",
     "text": [
      "Training...\n",
      "Epoch  1, CIFAR-10 Batch 1:  Loss: 2.1067 Validation Accuracy: 0.2364\n",
      "Epoch  1, CIFAR-10 Batch 2:  Loss: 1.7377 Validation Accuracy: 0.3292\n",
      "Epoch  1, CIFAR-10 Batch 3:  Loss: 1.4326 Validation Accuracy: 0.3566\n",
      "Epoch  1, CIFAR-10 Batch 4:  Loss: 1.5198 Validation Accuracy: 0.3916\n",
      "Epoch  1, CIFAR-10 Batch 5:  Loss: 1.5607 Validation Accuracy: 0.4138\n",
      "Epoch  2, CIFAR-10 Batch 1:  Loss: 1.5642 Validation Accuracy: 0.4320\n",
      "Epoch  2, CIFAR-10 Batch 2:  Loss: 1.3850 Validation Accuracy: 0.4400\n",
      "Epoch  2, CIFAR-10 Batch 3:  Loss: 1.0573 Validation Accuracy: 0.4282\n",
      "Epoch  2, CIFAR-10 Batch 4:  Loss: 1.2954 Validation Accuracy: 0.4666\n",
      "Epoch  2, CIFAR-10 Batch 5:  Loss: 1.2637 Validation Accuracy: 0.4806\n",
      "Epoch  3, CIFAR-10 Batch 1:  Loss: 1.3018 Validation Accuracy: 0.4914\n",
      "Epoch  3, CIFAR-10 Batch 2:  Loss: 1.1263 Validation Accuracy: 0.5006\n",
      "Epoch  3, CIFAR-10 Batch 3:  Loss: 0.9382 Validation Accuracy: 0.4684\n",
      "Epoch  3, CIFAR-10 Batch 4:  Loss: 1.0764 Validation Accuracy: 0.5242\n",
      "Epoch  3, CIFAR-10 Batch 5:  Loss: 1.2263 Validation Accuracy: 0.4958\n",
      "Epoch  4, CIFAR-10 Batch 1:  Loss: 1.1427 Validation Accuracy: 0.5210\n",
      "Epoch  4, CIFAR-10 Batch 2:  Loss: 0.9595 Validation Accuracy: 0.5286\n",
      "Epoch  4, CIFAR-10 Batch 3:  Loss: 0.7981 Validation Accuracy: 0.5216\n",
      "Epoch  4, CIFAR-10 Batch 4:  Loss: 0.9813 Validation Accuracy: 0.5480\n",
      "Epoch  4, CIFAR-10 Batch 5:  Loss: 1.0154 Validation Accuracy: 0.5474\n",
      "Epoch  5, CIFAR-10 Batch 1:  Loss: 1.0225 Validation Accuracy: 0.5420\n",
      "Epoch  5, CIFAR-10 Batch 2:  Loss: 0.8713 Validation Accuracy: 0.5566\n",
      "Epoch  5, CIFAR-10 Batch 3:  Loss: 0.6853 Validation Accuracy: 0.5400\n",
      "Epoch  5, CIFAR-10 Batch 4:  Loss: 0.9251 Validation Accuracy: 0.5578\n",
      "Epoch  5, CIFAR-10 Batch 5:  Loss: 0.9026 Validation Accuracy: 0.5668\n",
      "Epoch  6, CIFAR-10 Batch 1:  Loss: 0.9362 Validation Accuracy: 0.5624\n",
      "Epoch  6, CIFAR-10 Batch 2:  Loss: 0.7257 Validation Accuracy: 0.5678\n",
      "Epoch  6, CIFAR-10 Batch 3:  Loss: 0.6873 Validation Accuracy: 0.5798\n",
      "Epoch  6, CIFAR-10 Batch 4:  Loss: 0.7835 Validation Accuracy: 0.5798\n",
      "Epoch  6, CIFAR-10 Batch 5:  Loss: 0.8011 Validation Accuracy: 0.5782\n",
      "Epoch  7, CIFAR-10 Batch 1:  Loss: 0.8658 Validation Accuracy: 0.5744\n",
      "Epoch  7, CIFAR-10 Batch 2:  Loss: 0.7182 Validation Accuracy: 0.5938\n",
      "Epoch  7, CIFAR-10 Batch 3:  Loss: 0.5688 Validation Accuracy: 0.5808\n",
      "Epoch  7, CIFAR-10 Batch 4:  Loss: 0.7037 Validation Accuracy: 0.5844\n",
      "Epoch  7, CIFAR-10 Batch 5:  Loss: 0.7385 Validation Accuracy: 0.5868\n",
      "Epoch  8, CIFAR-10 Batch 1:  Loss: 0.8348 Validation Accuracy: 0.5920\n",
      "Epoch  8, CIFAR-10 Batch 2:  Loss: 0.6293 Validation Accuracy: 0.5818\n",
      "Epoch  8, CIFAR-10 Batch 3:  Loss: 0.4979 Validation Accuracy: 0.5920\n",
      "Epoch  8, CIFAR-10 Batch 4:  Loss: 0.5813 Validation Accuracy: 0.6006\n",
      "Epoch  8, CIFAR-10 Batch 5:  Loss: 0.6719 Validation Accuracy: 0.5912\n",
      "Epoch  9, CIFAR-10 Batch 1:  Loss: 0.7574 Validation Accuracy: 0.5998\n",
      "Epoch  9, CIFAR-10 Batch 2:  Loss: 0.6117 Validation Accuracy: 0.5960\n",
      "Epoch  9, CIFAR-10 Batch 3:  Loss: 0.5094 Validation Accuracy: 0.5972\n",
      "Epoch  9, CIFAR-10 Batch 4:  Loss: 0.5262 Validation Accuracy: 0.6012\n",
      "Epoch  9, CIFAR-10 Batch 5:  Loss: 0.6054 Validation Accuracy: 0.5824\n",
      "Epoch 10, CIFAR-10 Batch 1:  Loss: 0.7486 Validation Accuracy: 0.5900\n",
      "Epoch 10, CIFAR-10 Batch 2:  Loss: 0.5601 Validation Accuracy: 0.5996\n",
      "Epoch 10, CIFAR-10 Batch 3:  Loss: 0.4326 Validation Accuracy: 0.6052\n",
      "Epoch 10, CIFAR-10 Batch 4:  Loss: 0.4719 Validation Accuracy: 0.6036\n",
      "Epoch 10, CIFAR-10 Batch 5:  Loss: 0.5698 Validation Accuracy: 0.5808\n",
      "Epoch 11, CIFAR-10 Batch 1:  Loss: 0.7269 Validation Accuracy: 0.6038\n",
      "Epoch 11, CIFAR-10 Batch 2:  Loss: 0.5723 Validation Accuracy: 0.6060\n",
      "Epoch 11, CIFAR-10 Batch 3:  Loss: 0.3931 Validation Accuracy: 0.6010\n",
      "Epoch 11, CIFAR-10 Batch 4:  Loss: 0.4724 Validation Accuracy: 0.5982\n",
      "Epoch 11, CIFAR-10 Batch 5:  Loss: 0.4934 Validation Accuracy: 0.5914\n",
      "Epoch 12, CIFAR-10 Batch 1:  Loss: 0.6730 Validation Accuracy: 0.6046\n",
      "Epoch 12, CIFAR-10 Batch 2:  Loss: 0.5200 Validation Accuracy: 0.6106\n",
      "Epoch 12, CIFAR-10 Batch 3:  Loss: 0.3386 Validation Accuracy: 0.6164\n",
      "Epoch 12, CIFAR-10 Batch 4:  Loss: 0.4315 Validation Accuracy: 0.6142\n",
      "Epoch 12, CIFAR-10 Batch 5:  Loss: 0.4545 Validation Accuracy: 0.5866\n",
      "Epoch 13, CIFAR-10 Batch 1:  Loss: 0.6056 Validation Accuracy: 0.6154\n",
      "Epoch 13, CIFAR-10 Batch 2:  Loss: 0.4945 Validation Accuracy: 0.6184\n",
      "Epoch 13, CIFAR-10 Batch 3:  Loss: 0.3218 Validation Accuracy: 0.6180\n",
      "Epoch 13, CIFAR-10 Batch 4:  Loss: 0.3771 Validation Accuracy: 0.6118\n",
      "Epoch 13, CIFAR-10 Batch 5:  Loss: 0.3691 Validation Accuracy: 0.5998\n",
      "Epoch 14, CIFAR-10 Batch 1:  Loss: 0.6033 Validation Accuracy: 0.6076\n",
      "Epoch 14, CIFAR-10 Batch 2:  Loss: 0.4552 Validation Accuracy: 0.6168\n",
      "Epoch 14, CIFAR-10 Batch 3:  Loss: 0.3385 Validation Accuracy: 0.6076\n",
      "Epoch 14, CIFAR-10 Batch 4:  Loss: 0.3232 Validation Accuracy: 0.6158\n",
      "Epoch 14, CIFAR-10 Batch 5:  Loss: 0.3526 Validation Accuracy: 0.6060\n",
      "Epoch 15, CIFAR-10 Batch 1:  Loss: 0.5894 Validation Accuracy: 0.6096\n",
      "Epoch 15, CIFAR-10 Batch 2:  Loss: 0.4079 Validation Accuracy: 0.6114\n",
      "Epoch 15, CIFAR-10 Batch 3:  Loss: 0.2825 Validation Accuracy: 0.6216\n",
      "Epoch 15, CIFAR-10 Batch 4:  Loss: 0.2976 Validation Accuracy: 0.6188\n",
      "Epoch 15, CIFAR-10 Batch 5:  Loss: 0.3138 Validation Accuracy: 0.6116\n",
      "Epoch 16, CIFAR-10 Batch 1:  Loss: 0.5208 Validation Accuracy: 0.6054\n",
      "Epoch 16, CIFAR-10 Batch 2:  Loss: 0.3877 Validation Accuracy: 0.6272\n",
      "Epoch 16, CIFAR-10 Batch 3:  Loss: 0.2608 Validation Accuracy: 0.6182\n",
      "Epoch 16, CIFAR-10 Batch 4:  Loss: 0.3245 Validation Accuracy: 0.6186\n",
      "Epoch 16, CIFAR-10 Batch 5:  Loss: 0.2961 Validation Accuracy: 0.6098\n",
      "Epoch 17, CIFAR-10 Batch 1:  Loss: 0.5342 Validation Accuracy: 0.6130\n",
      "Epoch 17, CIFAR-10 Batch 2:  Loss: 0.3715 Validation Accuracy: 0.6194\n",
      "Epoch 17, CIFAR-10 Batch 3:  Loss: 0.2647 Validation Accuracy: 0.6172\n",
      "Epoch 17, CIFAR-10 Batch 4:  Loss: 0.2786 Validation Accuracy: 0.6158\n",
      "Epoch 17, CIFAR-10 Batch 5:  Loss: 0.2608 Validation Accuracy: 0.6192\n",
      "Epoch 18, CIFAR-10 Batch 1:  Loss: 0.5066 Validation Accuracy: 0.6254\n",
      "Epoch 18, CIFAR-10 Batch 2:  Loss: 0.3501 Validation Accuracy: 0.6212\n",
      "Epoch 18, CIFAR-10 Batch 3:  Loss: 0.2638 Validation Accuracy: 0.6162\n",
      "Epoch 18, CIFAR-10 Batch 4:  Loss: 0.2454 Validation Accuracy: 0.6206\n",
      "Epoch 18, CIFAR-10 Batch 5:  Loss: 0.2585 Validation Accuracy: 0.6086\n",
      "Epoch 19, CIFAR-10 Batch 1:  Loss: 0.4540 Validation Accuracy: 0.6308\n",
      "Epoch 19, CIFAR-10 Batch 2:  Loss: 0.3220 Validation Accuracy: 0.6186\n",
      "Epoch 19, CIFAR-10 Batch 3:  Loss: 0.2420 Validation Accuracy: 0.6186\n",
      "Epoch 19, CIFAR-10 Batch 4:  Loss: 0.2447 Validation Accuracy: 0.6270\n",
      "Epoch 19, CIFAR-10 Batch 5:  Loss: 0.2625 Validation Accuracy: 0.6074\n",
      "Epoch 20, CIFAR-10 Batch 1:  Loss: 0.3875 Validation Accuracy: 0.6336\n",
      "Epoch 20, CIFAR-10 Batch 2:  Loss: 0.3408 Validation Accuracy: 0.6158\n",
      "Epoch 20, CIFAR-10 Batch 3:  Loss: 0.2400 Validation Accuracy: 0.6144\n",
      "Epoch 20, CIFAR-10 Batch 4:  Loss: 0.2773 Validation Accuracy: 0.6250\n",
      "Epoch 20, CIFAR-10 Batch 5:  Loss: 0.2106 Validation Accuracy: 0.6082\n",
      "Epoch 21, CIFAR-10 Batch 1:  Loss: 0.3538 Validation Accuracy: 0.6276\n",
      "Epoch 21, CIFAR-10 Batch 2:  Loss: 0.2936 Validation Accuracy: 0.6268\n",
      "Epoch 21, CIFAR-10 Batch 3:  Loss: 0.2472 Validation Accuracy: 0.6030\n",
      "Epoch 21, CIFAR-10 Batch 4:  Loss: 0.2587 Validation Accuracy: 0.6312\n",
      "Epoch 21, CIFAR-10 Batch 5:  Loss: 0.2075 Validation Accuracy: 0.6206\n",
      "Epoch 22, CIFAR-10 Batch 1:  Loss: 0.3458 Validation Accuracy: 0.6300\n",
      "Epoch 22, CIFAR-10 Batch 2:  Loss: 0.2711 Validation Accuracy: 0.6130\n",
      "Epoch 22, CIFAR-10 Batch 3:  Loss: 0.2249 Validation Accuracy: 0.6030\n",
      "Epoch 22, CIFAR-10 Batch 4:  Loss: 0.2535 Validation Accuracy: 0.6242\n",
      "Epoch 22, CIFAR-10 Batch 5:  Loss: 0.2054 Validation Accuracy: 0.6164\n",
      "Epoch 23, CIFAR-10 Batch 1:  Loss: 0.3199 Validation Accuracy: 0.6350\n",
      "Epoch 23, CIFAR-10 Batch 2:  Loss: 0.2496 Validation Accuracy: 0.6144\n",
      "Epoch 23, CIFAR-10 Batch 3:  Loss: 0.2200 Validation Accuracy: 0.6012\n",
      "Epoch 23, CIFAR-10 Batch 4:  Loss: 0.2158 Validation Accuracy: 0.6242\n",
      "Epoch 23, CIFAR-10 Batch 5:  Loss: 0.1767 Validation Accuracy: 0.6178\n",
      "Epoch 24, CIFAR-10 Batch 1:  Loss: 0.3529 Validation Accuracy: 0.6366\n",
      "Epoch 24, CIFAR-10 Batch 2:  Loss: 0.2551 Validation Accuracy: 0.6250\n",
      "Epoch 24, CIFAR-10 Batch 3:  Loss: 0.2423 Validation Accuracy: 0.6056\n",
      "Epoch 24, CIFAR-10 Batch 4:  Loss: 0.2106 Validation Accuracy: 0.6316\n",
      "Epoch 24, CIFAR-10 Batch 5:  Loss: 0.1692 Validation Accuracy: 0.6130\n",
      "Epoch 25, CIFAR-10 Batch 1:  Loss: 0.3264 Validation Accuracy: 0.6412\n",
      "Epoch 25, CIFAR-10 Batch 2:  Loss: 0.2766 Validation Accuracy: 0.6140\n",
      "Epoch 25, CIFAR-10 Batch 3:  Loss: 0.2172 Validation Accuracy: 0.6128\n",
      "Epoch 25, CIFAR-10 Batch 4:  Loss: 0.2134 Validation Accuracy: 0.6282\n",
      "Epoch 25, CIFAR-10 Batch 5:  Loss: 0.1437 Validation Accuracy: 0.6186\n",
      "Epoch 26, CIFAR-10 Batch 1:  Loss: 0.3236 Validation Accuracy: 0.6394\n",
      "Epoch 26, CIFAR-10 Batch 2:  Loss: 0.2210 Validation Accuracy: 0.6174\n",
      "Epoch 26, CIFAR-10 Batch 3:  Loss: 0.2332 Validation Accuracy: 0.6024\n",
      "Epoch 26, CIFAR-10 Batch 4:  Loss: 0.1721 Validation Accuracy: 0.6350\n",
      "Epoch 26, CIFAR-10 Batch 5:  Loss: 0.1285 Validation Accuracy: 0.6332\n",
      "Epoch 27, CIFAR-10 Batch 1:  Loss: 0.3495 Validation Accuracy: 0.6376\n",
      "Epoch 27, CIFAR-10 Batch 2:  Loss: 0.2463 Validation Accuracy: 0.6242\n",
      "Epoch 27, CIFAR-10 Batch 3:  Loss: 0.2386 Validation Accuracy: 0.6038\n",
      "Epoch 27, CIFAR-10 Batch 4:  Loss: 0.1847 Validation Accuracy: 0.6368\n",
      "Epoch 27, CIFAR-10 Batch 5:  Loss: 0.1598 Validation Accuracy: 0.6264\n",
      "Epoch 28, CIFAR-10 Batch 1:  Loss: 0.3336 Validation Accuracy: 0.6342\n",
      "Epoch 28, CIFAR-10 Batch 2:  Loss: 0.2448 Validation Accuracy: 0.6262\n",
      "Epoch 28, CIFAR-10 Batch 3:  Loss: 0.2318 Validation Accuracy: 0.6178\n",
      "Epoch 28, CIFAR-10 Batch 4:  Loss: 0.1549 Validation Accuracy: 0.6392\n",
      "Epoch 28, CIFAR-10 Batch 5:  Loss: 0.1422 Validation Accuracy: 0.6256\n",
      "Epoch 29, CIFAR-10 Batch 1:  Loss: 0.2884 Validation Accuracy: 0.6370\n",
      "Epoch 29, CIFAR-10 Batch 2:  Loss: 0.2069 Validation Accuracy: 0.6198\n",
      "Epoch 29, CIFAR-10 Batch 3:  Loss: 0.2341 Validation Accuracy: 0.6146\n",
      "Epoch 29, CIFAR-10 Batch 4:  Loss: 0.1462 Validation Accuracy: 0.6366\n",
      "Epoch 29, CIFAR-10 Batch 5:  Loss: 0.1445 Validation Accuracy: 0.6202\n",
      "Epoch 30, CIFAR-10 Batch 1:  Loss: 0.2880 Validation Accuracy: 0.6218\n",
      "Epoch 30, CIFAR-10 Batch 2:  Loss: 0.2107 Validation Accuracy: 0.6188\n",
      "Epoch 30, CIFAR-10 Batch 3:  Loss: 0.2042 Validation Accuracy: 0.6142\n",
      "Epoch 30, CIFAR-10 Batch 4:  Loss: 0.1347 Validation Accuracy: 0.6312\n",
      "Epoch 30, CIFAR-10 Batch 5:  Loss: 0.1338 Validation Accuracy: 0.6184\n",
      "Epoch 31, CIFAR-10 Batch 1:  Loss: 0.2584 Validation Accuracy: 0.6216\n",
      "Epoch 31, CIFAR-10 Batch 2:  Loss: 0.2115 Validation Accuracy: 0.6248\n",
      "Epoch 31, CIFAR-10 Batch 3:  Loss: 0.2344 Validation Accuracy: 0.6110\n",
      "Epoch 31, CIFAR-10 Batch 4:  Loss: 0.1401 Validation Accuracy: 0.6252\n",
      "Epoch 31, CIFAR-10 Batch 5:  Loss: 0.1276 Validation Accuracy: 0.6198\n",
      "Epoch 32, CIFAR-10 Batch 1:  Loss: 0.2374 Validation Accuracy: 0.6278\n",
      "Epoch 32, CIFAR-10 Batch 2:  Loss: 0.2029 Validation Accuracy: 0.6272\n",
      "Epoch 32, CIFAR-10 Batch 3:  Loss: 0.2017 Validation Accuracy: 0.6168\n",
      "Epoch 32, CIFAR-10 Batch 4:  Loss: 0.1191 Validation Accuracy: 0.6336\n",
      "Epoch 32, CIFAR-10 Batch 5:  Loss: 0.1144 Validation Accuracy: 0.6292\n",
      "Epoch 33, CIFAR-10 Batch 1:  Loss: 0.2315 Validation Accuracy: 0.6326\n",
      "Epoch 33, CIFAR-10 Batch 2:  Loss: 0.2198 Validation Accuracy: 0.6224\n",
      "Epoch 33, CIFAR-10 Batch 3:  Loss: 0.1968 Validation Accuracy: 0.6222\n",
      "Epoch 33, CIFAR-10 Batch 4:  Loss: 0.1072 Validation Accuracy: 0.6338\n",
      "Epoch 33, CIFAR-10 Batch 5:  Loss: 0.1200 Validation Accuracy: 0.6312\n",
      "Epoch 34, CIFAR-10 Batch 1:  Loss: 0.2381 Validation Accuracy: 0.6386\n",
      "Epoch 34, CIFAR-10 Batch 2:  Loss: 0.2079 Validation Accuracy: 0.6268\n",
      "Epoch 34, CIFAR-10 Batch 3:  Loss: 0.1681 Validation Accuracy: 0.6296\n",
      "Epoch 34, CIFAR-10 Batch 4:  Loss: 0.1002 Validation Accuracy: 0.6322\n",
      "Epoch 34, CIFAR-10 Batch 5:  Loss: 0.0979 Validation Accuracy: 0.6282\n",
      "Epoch 35, CIFAR-10 Batch 1:  Loss: 0.2331 Validation Accuracy: 0.6394\n",
      "Epoch 35, CIFAR-10 Batch 2:  Loss: 0.2171 Validation Accuracy: 0.6146\n",
      "Epoch 35, CIFAR-10 Batch 3:  Loss: 0.1625 Validation Accuracy: 0.6284\n",
      "Epoch 35, CIFAR-10 Batch 4:  Loss: 0.0949 Validation Accuracy: 0.6394\n",
      "Epoch 35, CIFAR-10 Batch 5:  Loss: 0.1112 Validation Accuracy: 0.6340\n",
      "Epoch 36, CIFAR-10 Batch 1:  Loss: 0.2392 Validation Accuracy: 0.6400\n",
      "Epoch 36, CIFAR-10 Batch 2:  Loss: 0.1714 Validation Accuracy: 0.6208\n",
      "Epoch 36, CIFAR-10 Batch 3:  Loss: 0.1437 Validation Accuracy: 0.6312\n",
      "Epoch 36, CIFAR-10 Batch 4:  Loss: 0.1011 Validation Accuracy: 0.6404\n",
      "Epoch 36, CIFAR-10 Batch 5:  Loss: 0.1197 Validation Accuracy: 0.6340\n",
      "Epoch 37, CIFAR-10 Batch 1:  Loss: 0.2194 Validation Accuracy: 0.6358\n",
      "Epoch 37, CIFAR-10 Batch 2:  Loss: 0.1694 Validation Accuracy: 0.6314\n",
      "Epoch 37, CIFAR-10 Batch 3:  Loss: 0.1352 Validation Accuracy: 0.6318\n",
      "Epoch 37, CIFAR-10 Batch 4:  Loss: 0.1046 Validation Accuracy: 0.6378\n",
      "Epoch 37, CIFAR-10 Batch 5:  Loss: 0.1185 Validation Accuracy: 0.6248\n",
      "Epoch 38, CIFAR-10 Batch 1:  Loss: 0.2846 Validation Accuracy: 0.6322\n",
      "Epoch 38, CIFAR-10 Batch 2:  Loss: 0.1562 Validation Accuracy: 0.6154\n",
      "Epoch 38, CIFAR-10 Batch 3:  Loss: 0.1444 Validation Accuracy: 0.6280\n",
      "Epoch 38, CIFAR-10 Batch 4:  Loss: 0.1171 Validation Accuracy: 0.6352\n",
      "Epoch 38, CIFAR-10 Batch 5:  Loss: 0.1133 Validation Accuracy: 0.6314\n",
      "Epoch 39, CIFAR-10 Batch 1:  Loss: 0.2484 Validation Accuracy: 0.6388\n",
      "Epoch 39, CIFAR-10 Batch 2:  Loss: 0.1620 Validation Accuracy: 0.6326\n",
      "Epoch 39, CIFAR-10 Batch 3:  Loss: 0.1579 Validation Accuracy: 0.6312\n",
      "Epoch 39, CIFAR-10 Batch 4:  Loss: 0.1435 Validation Accuracy: 0.6296\n",
      "Epoch 39, CIFAR-10 Batch 5:  Loss: 0.1152 Validation Accuracy: 0.6348\n",
      "Epoch 40, CIFAR-10 Batch 1:  Loss: 0.2648 Validation Accuracy: 0.6328\n",
      "Epoch 40, CIFAR-10 Batch 2:  Loss: 0.1557 Validation Accuracy: 0.6278\n",
      "Epoch 40, CIFAR-10 Batch 3:  Loss: 0.1580 Validation Accuracy: 0.6246\n",
      "Epoch 40, CIFAR-10 Batch 4:  Loss: 0.1289 Validation Accuracy: 0.6328\n",
      "Epoch 40, CIFAR-10 Batch 5:  Loss: 0.1202 Validation Accuracy: 0.6334\n",
      "Epoch 41, CIFAR-10 Batch 1:  Loss: 0.2303 Validation Accuracy: 0.6368\n",
      "Epoch 41, CIFAR-10 Batch 2:  Loss: 0.1501 Validation Accuracy: 0.6118\n",
      "Epoch 41, CIFAR-10 Batch 3:  Loss: 0.1667 Validation Accuracy: 0.6342\n",
      "Epoch 41, CIFAR-10 Batch 4:  Loss: 0.1423 Validation Accuracy: 0.6304\n",
      "Epoch 41, CIFAR-10 Batch 5:  Loss: 0.1605 Validation Accuracy: 0.6170\n",
      "Epoch 42, CIFAR-10 Batch 1:  Loss: 0.2219 Validation Accuracy: 0.6370\n",
      "Epoch 42, CIFAR-10 Batch 2:  Loss: 0.1445 Validation Accuracy: 0.6098\n",
      "Epoch 42, CIFAR-10 Batch 3:  Loss: 0.1789 Validation Accuracy: 0.6326\n",
      "Epoch 42, CIFAR-10 Batch 4:  Loss: 0.1327 Validation Accuracy: 0.6364\n",
      "Epoch 42, CIFAR-10 Batch 5:  Loss: 0.1302 Validation Accuracy: 0.6150\n",
      "Epoch 43, CIFAR-10 Batch 1:  Loss: 0.1877 Validation Accuracy: 0.6416\n",
      "Epoch 43, CIFAR-10 Batch 2:  Loss: 0.1445 Validation Accuracy: 0.6112\n",
      "Epoch 43, CIFAR-10 Batch 3:  Loss: 0.1463 Validation Accuracy: 0.6350\n",
      "Epoch 43, CIFAR-10 Batch 4:  Loss: 0.1299 Validation Accuracy: 0.6372\n",
      "Epoch 43, CIFAR-10 Batch 5:  Loss: 0.1270 Validation Accuracy: 0.6186\n",
      "Epoch 44, CIFAR-10 Batch 1:  Loss: 0.2108 Validation Accuracy: 0.6454\n",
      "Epoch 44, CIFAR-10 Batch 2:  Loss: 0.1326 Validation Accuracy: 0.6110\n",
      "Epoch 44, CIFAR-10 Batch 3:  Loss: 0.1409 Validation Accuracy: 0.6348\n",
      "Epoch 44, CIFAR-10 Batch 4:  Loss: 0.1216 Validation Accuracy: 0.6364\n",
      "Epoch 44, CIFAR-10 Batch 5:  Loss: 0.1274 Validation Accuracy: 0.6220\n",
      "Epoch 45, CIFAR-10 Batch 1:  Loss: 0.1684 Validation Accuracy: 0.6390\n",
      "Epoch 45, CIFAR-10 Batch 2:  Loss: 0.1202 Validation Accuracy: 0.6108\n",
      "Epoch 45, CIFAR-10 Batch 3:  Loss: 0.1461 Validation Accuracy: 0.6348\n",
      "Epoch 45, CIFAR-10 Batch 4:  Loss: 0.0936 Validation Accuracy: 0.6364\n",
      "Epoch 45, CIFAR-10 Batch 5:  Loss: 0.1087 Validation Accuracy: 0.6248\n",
      "Epoch 46, CIFAR-10 Batch 1:  Loss: 0.1840 Validation Accuracy: 0.6372\n",
      "Epoch 46, CIFAR-10 Batch 2:  Loss: 0.1275 Validation Accuracy: 0.6110\n",
      "Epoch 46, CIFAR-10 Batch 3:  Loss: 0.1131 Validation Accuracy: 0.6350\n",
      "Epoch 46, CIFAR-10 Batch 4:  Loss: 0.0918 Validation Accuracy: 0.6296\n",
      "Epoch 46, CIFAR-10 Batch 5:  Loss: 0.1124 Validation Accuracy: 0.6204\n",
      "Epoch 47, CIFAR-10 Batch 1:  Loss: 0.1522 Validation Accuracy: 0.6422\n",
      "Epoch 47, CIFAR-10 Batch 2:  Loss: 0.1124 Validation Accuracy: 0.6120\n",
      "Epoch 47, CIFAR-10 Batch 3:  Loss: 0.1098 Validation Accuracy: 0.6336\n",
      "Epoch 47, CIFAR-10 Batch 4:  Loss: 0.0903 Validation Accuracy: 0.6258\n",
      "Epoch 47, CIFAR-10 Batch 5:  Loss: 0.1128 Validation Accuracy: 0.6210\n",
      "Epoch 48, CIFAR-10 Batch 1:  Loss: 0.1509 Validation Accuracy: 0.6412\n",
      "Epoch 48, CIFAR-10 Batch 2:  Loss: 0.1090 Validation Accuracy: 0.6286\n",
      "Epoch 48, CIFAR-10 Batch 3:  Loss: 0.1112 Validation Accuracy: 0.6280\n",
      "Epoch 48, CIFAR-10 Batch 4:  Loss: 0.0867 Validation Accuracy: 0.6300\n",
      "Epoch 48, CIFAR-10 Batch 5:  Loss: 0.0975 Validation Accuracy: 0.6170\n",
      "Epoch 49, CIFAR-10 Batch 1:  Loss: 0.1786 Validation Accuracy: 0.6286\n",
      "Epoch 49, CIFAR-10 Batch 2:  Loss: 0.1344 Validation Accuracy: 0.6092\n",
      "Epoch 49, CIFAR-10 Batch 3:  Loss: 0.1366 Validation Accuracy: 0.6144\n",
      "Epoch 49, CIFAR-10 Batch 4:  Loss: 0.1196 Validation Accuracy: 0.6420\n",
      "Epoch 49, CIFAR-10 Batch 5:  Loss: 0.1264 Validation Accuracy: 0.6082\n",
      "Epoch 50, CIFAR-10 Batch 1:  Loss: 0.1794 Validation Accuracy: 0.6386\n",
      "Epoch 50, CIFAR-10 Batch 2:  Loss: 0.1467 Validation Accuracy: 0.5892\n",
      "Epoch 50, CIFAR-10 Batch 3:  Loss: 0.1050 Validation Accuracy: 0.6316\n",
      "Epoch 50, CIFAR-10 Batch 4:  Loss: 0.0997 Validation Accuracy: 0.6356\n",
      "Epoch 50, CIFAR-10 Batch 5:  Loss: 0.1067 Validation Accuracy: 0.6170\n"
     ]
    }
   ],
   "source": [
    "\"\"\"\n",
    "DON'T MODIFY ANYTHING IN THIS CELL\n",
    "\"\"\"\n",
    "save_model_path = './image_classification'\n",
    "\n",
    "print('Training...')\n",
    "with tf.Session() as sess:\n",
    "    # Initializing the variables\n",
    "    sess.run(tf.global_variables_initializer())\n",
    "    \n",
    "    # Training cycle\n",
    "    for epoch in range(epochs):\n",
    "        # Loop over all batches\n",
    "        n_batches = 5\n",
    "        for batch_i in range(1, n_batches + 1):\n",
    "            for batch_features, batch_labels in helper.load_preprocess_training_batch(batch_i, batch_size):\n",
    "                train_neural_network(sess, optimizer, keep_probability, batch_features, batch_labels)\n",
    "            print('Epoch {:>2}, CIFAR-10 Batch {}:  '.format(epoch + 1, batch_i), end='')\n",
    "            print_stats(sess, batch_features, batch_labels, cost, accuracy)\n",
    "            \n",
    "    # Save Model\n",
    "    saver = tf.train.Saver()\n",
    "    save_path = saver.save(sess, save_model_path)"
   ]
  },
  {
   "cell_type": "markdown",
   "metadata": {},
   "source": [
    "# Checkpoint\n",
    "The model has been saved to disk.\n",
    "## Test Model\n",
    "Test your model against the test dataset.  This will be your final accuracy. You should have an accuracy greater than 50%. If you don't, keep tweaking the model architecture and parameters."
   ]
  },
  {
   "cell_type": "code",
   "execution_count": 58,
   "metadata": {
    "collapsed": false
   },
   "outputs": [
    {
     "name": "stdout",
     "output_type": "stream",
     "text": [
      "Testing Accuracy: 0.6203125\n",
      "\n"
     ]
    },
    {
     "data": {
      "image/png": "[encoded data removed]",
      "text/plain": [
       "<matplotlib.figure.Figure at 0x1154ca080>"
      ]
     },
     "metadata": {
      "image/png": {
       "height": 319,
       "width": 355
      }
     },
     "output_type": "display_data"
    }
   ],
   "source": [
    "\"\"\"\n",
    "DON'T MODIFY ANYTHING IN THIS CELL\n",
    "\"\"\"\n",
    "%matplotlib inline\n",
    "%config InlineBackend.figure_format = 'retina'\n",
    "\n",
    "import tensorflow as tf\n",
    "import pickle\n",
    "import helper\n",
    "import random\n",
    "\n",
    "# Set batch size if not already set\n",
    "try:\n",
    "    if batch_size:\n",
    "        pass\n",
    "except NameError:\n",
    "    batch_size = 64\n",
    "\n",
    "save_model_path = './image_classification'\n",
    "n_samples = 4\n",
    "top_n_predictions = 3\n",
    "\n",
    "def test_model():\n",
    "    \"\"\"\n",
    "    Test the saved model against the test dataset\n",
    "    \"\"\"\n",
    "\n",
    "    test_features, test_labels = pickle.load(open('preprocess_training.p', mode='rb'))\n",
    "    loaded_graph = tf.Graph()\n",
    "\n",
    "    with tf.Session(graph=loaded_graph) as sess:\n",
    "        # Load model\n",
    "        loader = tf.train.import_meta_graph(save_model_path + '.meta')\n",
    "        loader.restore(sess, save_model_path)\n",
    "\n",
    "        # Get Tensors from loaded model\n",
    "        loaded_x = loaded_graph.get_tensor_by_name('x:0')\n",
    "        loaded_y = loaded_graph.get_tensor_by_name('y:0')\n",
    "        loaded_keep_prob = loaded_graph.get_tensor_by_name('keep_prob:0')\n",
    "        loaded_logits = loaded_graph.get_tensor_by_name('logits:0')\n",
    "        loaded_acc = loaded_graph.get_tensor_by_name('accuracy:0')\n",
    "        \n",
    "        # Get accuracy in batches for memory limitations\n",
    "        test_batch_acc_total = 0\n",
    "        test_batch_count = 0\n",
    "        \n",
    "        for train_feature_batch, train_label_batch in helper.batch_features_labels(test_features, test_labels, batch_size):\n",
    "            test_batch_acc_total += sess.run(\n",
    "                loaded_acc,\n",
    "                feed_dict={loaded_x: train_feature_batch, loaded_y: train_label_batch, loaded_keep_prob: 1.0})\n",
    "            test_batch_count += 1\n",
    "\n",
    "        print('Testing Accuracy: {}\\n'.format(test_batch_acc_total/test_batch_count))\n",
    "\n",
    "        # Print Random Samples\n",
    "        random_test_features, random_test_labels = tuple(zip(*random.sample(list(zip(test_features, test_labels)), n_samples)))\n",
    "        random_test_predictions = sess.run(\n",
    "            tf.nn.top_k(tf.nn.softmax(loaded_logits), top_n_predictions),\n",
    "            feed_dict={loaded_x: random_test_features, loaded_y: random_test_labels, loaded_keep_prob: 1.0})\n",
    "        helper.display_image_predictions(random_test_features, random_test_labels, random_test_predictions)\n",
    "\n",
    "\n",
    "test_model()"
   ]
  },
  {
   "cell_type": "markdown",
   "metadata": {},
   "source": [
    "## Why 50-70% Accuracy?\n",
    "You might be wondering why you can't get an accuracy any higher. First things first, 50% isn't bad for a simple CNN.  Pure guessing would get you 10% accuracy. However, you might notice people are getting scores [well above 70%](http://rodrigob.github.io/are_we_there_yet/build/classification_datasets_results.html#43494641522d3130).  That's because we haven't taught you all there is to know about neural networks. We still need to cover a few more techniques.\n",
    "## Submitting This Project\n",
    "When submitting this project, make sure to run all the cells before saving the notebook.  Save the notebook file as \"dlnd_image_classification.ipynb\" and save it as a HTML file under \"File\" -> \"Download as\".  Include the \"helper.py\" and \"problem_unittests.py\" files in your submission."
   ]
  }
 ],
 "metadata": {
  "kernelspec": {
   "display_name": "Python [default]",
   "language": "python",
   "name": "python3"
  },
  "language_info": {
   "codemirror_mode": {
    "name": "ipython",
    "version": 3
   },
   "file_extension": ".py",
   "mimetype": "text/x-python",
   "name": "python",
   "nbconvert_exporter": "python",
   "pygments_lexer": "ipython3",
   "version": "3.5.2"
  }
 },
 "nbformat": 4,
 "nbformat_minor": 0
}
