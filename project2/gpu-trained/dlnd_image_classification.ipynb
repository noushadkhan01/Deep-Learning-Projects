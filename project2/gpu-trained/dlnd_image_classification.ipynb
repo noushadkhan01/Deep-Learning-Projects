{
 "cells": [
  {
   "cell_type": "markdown",
   "metadata": {},
   "source": [
    "### Copyright [Ryan Collins](https://github.com/RyanCCollins).  All rights reserved."
   ]
  },
  {
   "cell_type": "markdown",
   "metadata": {
    "collapsed": true,
    "deletable": true,
    "editable": true
   },
   "source": [
    "# Image Classification\n",
    "In this project, you'll classify images from the [CIFAR-10 dataset](https://www.cs.toronto.edu/~kriz/cifar.html).  The dataset consists of airplanes, dogs, cats, and other objects. You'll preprocess the images, then train a convolutional neural network on all the samples. The images need to be normalized and the labels need to be one-hot encoded.  You'll get to apply what you learned and build a convolutional, max pooling, dropout, and fully connected layers.  At the end, you'll get to see your neural network's predictions on the sample images.\n",
    "## Get the Data\n",
    "Run the following cell to download the [CIFAR-10 dataset for python](https://www.cs.toronto.edu/~kriz/cifar-10-python.tar.gz)."
   ]
  },
  {
   "cell_type": "code",
   "execution_count": 1,
   "metadata": {
    "collapsed": false,
    "deletable": true,
    "editable": true
   },
   "outputs": [
    {
     "name": "stderr",
     "output_type": "stream",
     "text": [
      "CIFAR-10 Dataset: 171MB [00:39, 4.29MB/s]                              \n"
     ]
    },
    {
     "name": "stdout",
     "output_type": "stream",
     "text": [
      "All files found!\n"
     ]
    }
   ],
   "source": [
    "\"\"\"\n",
    "DON'T MODIFY ANYTHING IN THIS CELL THAT IS BELOW THIS LINE\n",
    "\"\"\"\n",
    "from urllib.request import urlretrieve\n",
    "from os.path import isfile, isdir\n",
    "from tqdm import tqdm\n",
    "import problem_unittests as tests\n",
    "import tarfile\n",
    "\n",
    "cifar10_dataset_folder_path = 'cifar-10-batches-py'\n",
    "\n",
    "class DLProgress(tqdm):\n",
    "    last_block = 0\n",
    "\n",
    "    def hook(self, block_num=1, block_size=1, total_size=None):\n",
    "        self.total = total_size\n",
    "        self.update((block_num - self.last_block) * block_size)\n",
    "        self.last_block = block_num\n",
    "\n",
    "if not isfile('cifar-10-python.tar.gz'):\n",
    "    with DLProgress(unit='B', unit_scale=True, miniters=1, desc='CIFAR-10 Dataset') as pbar:\n",
    "        urlretrieve(\n",
    "            'https://www.cs.toronto.edu/~kriz/cifar-10-python.tar.gz',\n",
    "            'cifar-10-python.tar.gz',\n",
    "            pbar.hook)\n",
    "\n",
    "if not isdir(cifar10_dataset_folder_path):\n",
    "    with tarfile.open('cifar-10-python.tar.gz') as tar:\n",
    "        tar.extractall()\n",
    "        tar.close()\n",
    "\n",
    "\n",
    "tests.test_folder_path(cifar10_dataset_folder_path)"
   ]
  },
  {
   "cell_type": "markdown",
   "metadata": {
    "deletable": true,
    "editable": true
   },
   "source": [
    "## Explore the Data\n",
    "The dataset is broken into batches to prevent your machine from running out of memory.  The CIFAR-10 dataset consists of 5 batches, named `data_batch_1`, `data_batch_2`, etc.. Each batch contains the labels and images that are one of the following:\n",
    "* airplane\n",
    "* automobile\n",
    "* bird\n",
    "* cat\n",
    "* deer\n",
    "* dog\n",
    "* frog\n",
    "* horse\n",
    "* ship\n",
    "* truck\n",
    "\n",
    "Understanding a dataset is part of making predictions on the data.  Play around with the code cell below by changing the `batch_id` and `sample_id`. The `batch_id` is the id for a batch (1-5). The `sample_id` is the id for a image and label pair in the batch.\n",
    "\n",
    "Ask yourself \"What are all possible labels?\", \"What is the range of values for the image data?\", \"Are the labels in order or random?\".  Answers to questions like these will help you preprocess the data and end up with better predictions."
   ]
  },
  {
   "cell_type": "code",
   "execution_count": 2,
   "metadata": {
    "collapsed": false,
    "deletable": true,
    "editable": true
   },
   "outputs": [
    {
     "name": "stdout",
     "output_type": "stream",
     "text": [
      "\n",
      "Stats of batch 1:\n",
      "Samples: 10000\n",
      "Label Counts: {0: 1005, 1: 974, 2: 1032, 3: 1016, 4: 999, 5: 937, 6: 1030, 7: 1001, 8: 1025, 9: 981}\n",
      "First 20 Labels: [6, 9, 9, 4, 1, 1, 2, 7, 8, 3, 4, 7, 7, 2, 9, 9, 9, 3, 2, 6]\n",
      "\n",
      "Example of Image 5:\n",
      "Image - Min Value: 0 Max Value: 252\n",
      "Image - Shape: (32, 32, 3)\n",
      "Label - Label Id: 1 Name: automobile\n"
     ]
    },
    {
     "data": {
      "image/png": "[encoded data removed]",
      "text/plain": [
       "<matplotlib.figure.Figure at 0x7fcbad4d5358>"
      ]
     },
     "metadata": {
      "image/png": {
       "height": 250,
       "width": 253
      }
     },
     "output_type": "display_data"
    }
   ],
   "source": [
    "%matplotlib inline\n",
    "%config InlineBackend.figure_format = 'retina'\n",
    "\n",
    "import helper\n",
    "import numpy as np\n",
    "\n",
    "# Explore the dataset\n",
    "batch_id = 1\n",
    "sample_id = 5\n",
    "helper.display_stats(cifar10_dataset_folder_path, batch_id, sample_id)"
   ]
  },
  {
   "cell_type": "markdown",
   "metadata": {
    "deletable": true,
    "editable": true
   },
   "source": [
    "## Implement Preprocess Functions\n",
    "### Normalize\n",
    "In the cell below, implement the `normalize` function to take in image data, `x`, and return it as a normalized Numpy array. The values should be in the range of 0 to 1, inclusive.  The return object should be the same shape as `x`."
   ]
  },
  {
   "cell_type": "code",
   "execution_count": 3,
   "metadata": {
    "collapsed": false,
    "deletable": true,
    "editable": true
   },
   "outputs": [
    {
     "name": "stdout",
     "output_type": "stream",
     "text": [
      "Tests Passed\n"
     ]
    }
   ],
   "source": [
    "def normalize(x):\n",
    "    \"\"\"\n",
    "    Normalize a list of sample image data in the range of 0 to 1\n",
    "    : x: List of image data.  The image shape is (32, 32, 3)\n",
    "    : return: Numpy array of normalize data\n",
    "    \"\"\"\n",
    "    # TODO: Implement Function\n",
    "    return (x - np.min(x)) / (np.max(x) - np.min(x))\n",
    "\n",
    "\n",
    "\"\"\"\n",
    "DON'T MODIFY ANYTHING IN THIS CELL THAT IS BELOW THIS LINE\n",
    "\"\"\"\n",
    "tests.test_normalize(normalize)"
   ]
  },
  {
   "cell_type": "markdown",
   "metadata": {
    "deletable": true,
    "editable": true
   },
   "source": [
    "### One-hot encode\n",
    "Just like the previous code cell, you'll be implementing a function for preprocessing.  This time, you'll implement the `one_hot_encode` function. The input, `x`, are a list of labels.  Implement the function to return the list of labels as One-Hot encoded Numpy array.  The possible values for labels are 0 to 9. The one-hot encoding function should return the same encoding for each value between each call to `one_hot_encode`.  Make sure to save the map of encodings outside the function.\n",
    "\n",
    "Hint: Don't reinvent the wheel."
   ]
  },
  {
   "cell_type": "code",
   "execution_count": 4,
   "metadata": {
    "collapsed": false,
    "deletable": true,
    "editable": true
   },
   "outputs": [
    {
     "name": "stdout",
     "output_type": "stream",
     "text": [
      "Tests Passed\n"
     ]
    }
   ],
   "source": [
    "def one_hot_encode(x):\n",
    "    \"\"\"\n",
    "    One hot encode a list of sample labels. Return a one-hot encoded vector for each label.\n",
    "    : x: List of sample Labels\n",
    "    : return: Numpy array of one-hot encoded labels\n",
    "    \"\"\"\n",
    "    # FROM https://discussions.udacity.com/t/one-hot-encoding-help/224505/11?u=ryan.collins\n",
    "    max_vals = 10\n",
    "    return np.eye(max_vals)[x]\n",
    "\n",
    "\n",
    "\"\"\"\n",
    "DON'T MODIFY ANYTHING IN THIS CELL THAT IS BELOW THIS LINE\n",
    "\"\"\"\n",
    "tests.test_one_hot_encode(one_hot_encode)"
   ]
  },
  {
   "cell_type": "markdown",
   "metadata": {
    "deletable": true,
    "editable": true
   },
   "source": [
    "### Randomize Data\n",
    "As you saw from exploring the data above, the order of the samples are randomized.  It doesn't hurt to randomize it again, but you don't need to for this dataset."
   ]
  },
  {
   "cell_type": "markdown",
   "metadata": {
    "deletable": true,
    "editable": true
   },
   "source": [
    "## Preprocess all the data and save it\n",
    "Running the code cell below will preprocess all the CIFAR-10 data and save it to file. The code below also uses 10% of the training data for validation."
   ]
  },
  {
   "cell_type": "code",
   "execution_count": 5,
   "metadata": {
    "collapsed": false,
    "deletable": true,
    "editable": true
   },
   "outputs": [],
   "source": [
    "\"\"\"\n",
    "DON'T MODIFY ANYTHING IN THIS CELL\n",
    "\"\"\"\n",
    "# Preprocess Training, Validation, and Testing Data\n",
    "helper.preprocess_and_save_data(cifar10_dataset_folder_path, normalize, one_hot_encode)"
   ]
  },
  {
   "cell_type": "markdown",
   "metadata": {
    "deletable": true,
    "editable": true
   },
   "source": [
    "# Check Point\n",
    "This is your first checkpoint.  If you ever decide to come back to this notebook or have to restart the notebook, you can start from here.  The preprocessed data has been saved to disk."
   ]
  },
  {
   "cell_type": "code",
   "execution_count": 6,
   "metadata": {
    "collapsed": true,
    "deletable": true,
    "editable": true
   },
   "outputs": [],
   "source": [
    "\"\"\"\n",
    "DON'T MODIFY ANYTHING IN THIS CELL\n",
    "\"\"\"\n",
    "import pickle\n",
    "import problem_unittests as tests\n",
    "import helper\n",
    "\n",
    "# Load the Preprocessed Validation data\n",
    "valid_features, valid_labels = pickle.load(open('preprocess_validation.p', mode='rb'))"
   ]
  },
  {
   "cell_type": "markdown",
   "metadata": {
    "deletable": true,
    "editable": true
   },
   "source": [
    "## Build the network\n",
    "For the neural network, you'll build each layer into a function.  Most of the code you've seen has been outside of functions. To test your code more thoroughly, we require that you put each layer in a function.  This allows us to give you better feedback and test for simple mistakes using our unittests before you submit your project.\n",
    "\n",
    "If you're finding it hard to dedicate enough time for this course a week, we've provided a small shortcut to this part of the project. In the next couple of problems, you'll have the option to use [TensorFlow Layers](https://www.tensorflow.org/api_docs/python/tf/layers) or [TensorFlow Layers (contrib)](https://www.tensorflow.org/api_guides/python/contrib.layers) to build each layer, except \"Convolutional & Max Pooling\" layer.  TF Layers is similar to Keras's and TFLearn's abstraction to layers, so it's easy to pickup.\n",
    "\n",
    "If you would like to get the most of this course, try to solve all the problems without TF Layers.  Let's begin!\n",
    "### Input\n",
    "The neural network needs to read the image data, one-hot encoded labels, and dropout keep probability. Implement the following functions\n",
    "* Implement `neural_net_image_input`\n",
    " * Return a [TF Placeholder](https://www.tensorflow.org/api_docs/python/tf/placeholder)\n",
    " * Set the shape using `image_shape` with batch size set to `None`.\n",
    " * Name the TensorFlow placeholder \"x\" using the TensorFlow `name` parameter in the [TF Placeholder](https://www.tensorflow.org/api_docs/python/tf/placeholder).\n",
    "* Implement `neural_net_label_input`\n",
    " * Return a [TF Placeholder](https://www.tensorflow.org/api_docs/python/tf/placeholder)\n",
    " * Set the shape using `n_classes` with batch size set to `None`.\n",
    " * Name the TensorFlow placeholder \"y\" using the TensorFlow `name` parameter in the [TF Placeholder](https://www.tensorflow.org/api_docs/python/tf/placeholder).\n",
    "* Implement `neural_net_keep_prob_input`\n",
    " * Return a [TF Placeholder](https://www.tensorflow.org/api_docs/python/tf/placeholder) for dropout keep probability.\n",
    " * Name the TensorFlow placeholder \"keep_prob\" using the TensorFlow `name` parameter in the [TF Placeholder](https://www.tensorflow.org/api_docs/python/tf/placeholder).\n",
    "\n",
    "These names will be used at the end of the project to load your saved model.\n",
    "\n",
    "Note: `None` for shapes in TensorFlow allow for a dynamic size."
   ]
  },
  {
   "cell_type": "code",
   "execution_count": 7,
   "metadata": {
    "collapsed": false,
    "deletable": true,
    "editable": true
   },
   "outputs": [
    {
     "name": "stdout",
     "output_type": "stream",
     "text": [
      "Image Input Tests Passed.\n",
      "Label Input Tests Passed.\n",
      "Keep Prob Tests Passed.\n"
     ]
    }
   ],
   "source": [
    "import tensorflow as tf\n",
    "\n",
    "def neural_net_image_input(image_shape):\n",
    "    \"\"\"\n",
    "    Return a Tensor for a bach of image input\n",
    "    : image_shape: Shape of the images\n",
    "    : return: Tensor for image input.\n",
    "    \"\"\"\n",
    "    # TODO: Implement Function\n",
    "    return tf.placeholder(tf.float32, (None, *image_shape), name=\"x\")\n",
    "\n",
    "\n",
    "def neural_net_label_input(n_classes):\n",
    "    \"\"\"\n",
    "    Return a Tensor for a batch of label input\n",
    "    : n_classes: Number of classes\n",
    "    : return: Tensor for label input.\n",
    "    \"\"\"\n",
    "    # TODO: Implement Function\n",
    "    return tf.placeholder(tf.float32, (None, n_classes), name=\"y\")\n",
    "\n",
    "\n",
    "def neural_net_keep_prob_input():\n",
    "    \"\"\"\n",
    "    Return a Tensor for keep probability\n",
    "    : return: Tensor for keep probability.\n",
    "    \"\"\"\n",
    "    # TODO: Implement Function\n",
    "    return tf.placeholder(tf.float32, name=\"keep_prob\")\n",
    "\n",
    "\n",
    "\"\"\"\n",
    "DON'T MODIFY ANYTHING IN THIS CELL THAT IS BELOW THIS LINE\n",
    "\"\"\"\n",
    "tf.reset_default_graph()\n",
    "tests.test_nn_image_inputs(neural_net_image_input)\n",
    "tests.test_nn_label_inputs(neural_net_label_input)\n",
    "tests.test_nn_keep_prob_inputs(neural_net_keep_prob_input)"
   ]
  },
  {
   "cell_type": "markdown",
   "metadata": {
    "deletable": true,
    "editable": true
   },
   "source": [
    "### Convolution and Max Pooling Layer\n",
    "Convolution layers have a lot of success with images. For this code cell, you should implement the function `conv2d_maxpool` to apply convolution then max pooling:\n",
    "* Create the weight and bias using `conv_ksize`, `conv_num_outputs` and the shape of `x_tensor`.\n",
    "* Apply a convolution to `x_tensor` using weight and `conv_strides`.\n",
    " * We recommend you use same padding, but you're welcome to use any padding.\n",
    "* Add bias\n",
    "* Add a nonlinear activation to the convolution.\n",
    "* Apply Max Pooling using `pool_ksize` and `pool_strides`.\n",
    " * We recommend you use same padding, but you're welcome to use any padding.\n",
    "\n",
    "Note: You **can't** use [TensorFlow Layers](https://www.tensorflow.org/api_docs/python/tf/layers) or [TensorFlow Layers (contrib)](https://www.tensorflow.org/api_guides/python/contrib.layers) for this layer.  You're free to use any TensorFlow package for all the other layers."
   ]
  },
  {
   "cell_type": "code",
   "execution_count": 8,
   "metadata": {
    "collapsed": false,
    "deletable": true,
    "editable": true,
    "scrolled": true
   },
   "outputs": [
    {
     "name": "stdout",
     "output_type": "stream",
     "text": [
      "Tests Passed\n"
     ]
    }
   ],
   "source": [
    "def conv2d_maxpool(x_tensor, conv_num_outputs, conv_ksize, conv_strides, pool_ksize, pool_strides):\n",
    "    \"\"\"\n",
    "    Apply convolution then max pooling to x_tensor\n",
    "    :param x_tensor: TensorFlow Tensor\n",
    "    :param conv_num_outputs: Number of outputs for the convolutional layer\n",
    "    :param conv_strides: Stride 2-D Tuple for convolution\n",
    "    :param pool_ksize: kernal size 2-D Tuple for pool\n",
    "    :param pool_strides: Stride 2-D Tuple for pool\n",
    "    : return: A tensor that represents convolution and max pooling of x_tensor\n",
    "    \"\"\"\n",
    "    # TODO: Implement Function\n",
    "    input_shape = int(x_tensor.shape[3])\n",
    "    output_shape = conv_num_outputs\n",
    "    weight_shape = [*conv_ksize, input_shape, output_shape]\n",
    "    w = tf.Variable(tf.random_normal(weight_shape, stddev=0.1))\n",
    "    b = tf.Variable(tf.zeros(output_shape))\n",
    "    \n",
    "    # Initialize the 2d conv layer\n",
    "    conv_net = tf.nn.conv2d(x_tensor, w, [1, *conv_strides, 1], padding=\"SAME\")\n",
    "    \n",
    "    # Add the bias\n",
    "    conv_net = tf.nn.bias_add(conv_net, b)\n",
    "    \n",
    "    # Add nonlinear activiation with relu\n",
    "    conv_net = tf.nn.relu(conv_net)\n",
    "    \n",
    "    # Max pooling\n",
    "    mp_strides = [1, *pool_strides, 1]\n",
    "    mp_ksize = [1, *conv_ksize, 1]\n",
    "    conv_net = tf.nn.max_pool(conv_net, mp_ksize, mp_strides, padding=\"SAME\")\n",
    "    \n",
    "    return conv_net\n",
    "\n",
    "\"\"\"\n",
    "DON'T MODIFY ANYTHING IN THIS CELL THAT IS BELOW THIS LINE\n",
    "\"\"\"\n",
    "tests.test_con_pool(conv2d_maxpool)"
   ]
  },
  {
   "cell_type": "markdown",
   "metadata": {
    "deletable": true,
    "editable": true
   },
   "source": [
    "### Flatten Layer\n",
    "Implement the `flatten` function to change the dimension of `x_tensor` from a 4-D tensor to a 2-D tensor.  The output should be the shape (*Batch Size*, *Flattened Image Size*). You can use [TensorFlow Layers](https://www.tensorflow.org/api_docs/python/tf/layers) or [TensorFlow Layers (contrib)](https://www.tensorflow.org/api_guides/python/contrib.layers) for this layer."
   ]
  },
  {
   "cell_type": "code",
   "execution_count": 9,
   "metadata": {
    "collapsed": false,
    "deletable": true,
    "editable": true
   },
   "outputs": [
    {
     "name": "stdout",
     "output_type": "stream",
     "text": [
      "Tests Passed\n"
     ]
    }
   ],
   "source": [
    "def flatten(x_tensor):\n",
    "    \"\"\"\n",
    "    Flatten x_tensor to (Batch Size, Flattened Image Size)\n",
    "    : x_tensor: A tensor of size (Batch Size, ...), where ... are the image dimensions.\n",
    "    : return: A tensor of size (Batch Size, Flattened Image Size).\n",
    "    \"\"\"\n",
    "    # TODO: Implement Function\n",
    "    return tf.contrib.layers.flatten(x_tensor)\n",
    "\n",
    "\n",
    "\"\"\"\n",
    "DON'T MODIFY ANYTHING IN THIS CELL THAT IS BELOW THIS LINE\n",
    "\"\"\"\n",
    "tests.test_flatten(flatten)"
   ]
  },
  {
   "cell_type": "markdown",
   "metadata": {
    "deletable": true,
    "editable": true
   },
   "source": [
    "### Fully-Connected Layer\n",
    "Implement the `fully_conn` function to apply a fully connected layer to `x_tensor` with the shape (*Batch Size*, *num_outputs*). You can use [TensorFlow Layers](https://www.tensorflow.org/api_docs/python/tf/layers) or [TensorFlow Layers (contrib)](https://www.tensorflow.org/api_guides/python/contrib.layers) for this layer."
   ]
  },
  {
   "cell_type": "code",
   "execution_count": 10,
   "metadata": {
    "collapsed": true,
    "deletable": true,
    "editable": true
   },
   "outputs": [],
   "source": [
    "def get_w_b(x_tensor, num_outputs):\n",
    "    \"\"\"\n",
    "    Since both the input / output layer require weight / biases,\n",
    "    this will return a tuple containing them, a lot more dry this way!\n",
    "    : x_tensor: A 2-D tensor where the first dimension is batch size.\n",
    "    : num_outputs: The number of output that the new tensor should be.\n",
    "    : return: A tuple with the weight / biases\n",
    "    \"\"\"\n",
    "    weight_shape = (int(x_tensor.shape[1]), num_outputs)\n",
    "    w = tf.Variable(tf.random_normal(weight_shape, stddev=0.1))\n",
    "    b = tf.Variable(tf.zeros(num_outputs))\n",
    "    return (w, b)"
   ]
  },
  {
   "cell_type": "code",
   "execution_count": 11,
   "metadata": {
    "collapsed": false,
    "deletable": true,
    "editable": true
   },
   "outputs": [
    {
     "name": "stdout",
     "output_type": "stream",
     "text": [
      "Tests Passed\n"
     ]
    }
   ],
   "source": [
    "def fully_conn(x_tensor, num_outputs):\n",
    "    \"\"\"\n",
    "    Apply a fully connected layer to x_tensor using weight and bias\n",
    "    : x_tensor: A 2-D tensor where the first dimension is batch size.\n",
    "    : num_outputs: The number of output that the new tensor should be.\n",
    "    : return: A 2-D tensor where the second dimension is num_outputs.\n",
    "    \"\"\"\n",
    "    # TODO: Implement Function\n",
    "    #Create the weights / bias variables\n",
    "    (w, b) = get_w_b(x_tensor, num_outputs)\n",
    "    \n",
    "    # Hook up and return the layer\n",
    "    # Matrix multiply the input tensor with the weights and add the bias\n",
    "    layer = tf.add(tf.matmul(x_tensor, w), b)\n",
    "    \n",
    "    # Hookup relu hidden layer\n",
    "    layer = tf.nn.relu(layer)\n",
    "    return layer\n",
    "\n",
    "\n",
    "\"\"\"\n",
    "DON'T MODIFY ANYTHING IN THIS CELL THAT IS BELOW THIS LINE\n",
    "\"\"\"\n",
    "tests.test_fully_conn(fully_conn)"
   ]
  },
  {
   "cell_type": "markdown",
   "metadata": {
    "deletable": true,
    "editable": true
   },
   "source": [
    "### Output Layer\n",
    "Implement the `output` function to apply a fully connected layer to `x_tensor` with the shape (*Batch Size*, *num_outputs*). You can use [TensorFlow Layers](https://www.tensorflow.org/api_docs/python/tf/layers) or [TensorFlow Layers (contrib)](https://www.tensorflow.org/api_guides/python/contrib.layers) for this layer.\n",
    "\n",
    "Note: Activation, softmax, or cross entropy shouldn't be applied to this."
   ]
  },
  {
   "cell_type": "code",
   "execution_count": 12,
   "metadata": {
    "collapsed": false,
    "deletable": true,
    "editable": true
   },
   "outputs": [
    {
     "name": "stdout",
     "output_type": "stream",
     "text": [
      "Tests Passed\n"
     ]
    }
   ],
   "source": [
    "def output(x_tensor, num_outputs):\n",
    "    \"\"\"\n",
    "    Apply a output layer to x_tensor using weight and bias\n",
    "    : x_tensor: A 2-D tensor where the first dimension is batch size.\n",
    "    : num_outputs: The number of output that the new tensor should be.\n",
    "    : return: A 2-D tensor where the second dimension is num_outputs.\n",
    "    \"\"\"\n",
    "    # TODO: Implement Function\n",
    "    (w, b) = get_w_b(x_tensor, num_outputs)\n",
    "    layer = tf.add(tf.matmul(x_tensor, w), b)\n",
    "    return layer\n",
    "\n",
    "\n",
    "\"\"\"\n",
    "DON'T MODIFY ANYTHING IN THIS CELL THAT IS BELOW THIS LINE\n",
    "\"\"\"\n",
    "tests.test_output(output)"
   ]
  },
  {
   "cell_type": "markdown",
   "metadata": {
    "deletable": true,
    "editable": true
   },
   "source": [
    "### Create Convolutional Model\n",
    "Implement the function `conv_net` to create a convolutional neural network model. The function takes in a batch of images, `x`, and outputs logits.  Use the layers you created above to create this model:\n",
    "\n",
    "* Apply 1, 2, or 3 Convolution and Max Pool layers\n",
    "* Apply a Flatten Layer\n",
    "* Apply 1, 2, or 3 Fully Connected Layers\n",
    "* Apply an Output Layer\n",
    "* Return the output\n",
    "* Apply [TensorFlow's Dropout](https://www.tensorflow.org/api_docs/python/tf/nn/dropout) to one or more layers in the model using `keep_prob`. "
   ]
  },
  {
   "cell_type": "code",
   "execution_count": 13,
   "metadata": {
    "collapsed": false,
    "deletable": true,
    "editable": true
   },
   "outputs": [
    {
     "name": "stdout",
     "output_type": "stream",
     "text": [
      "Neural Network Built!\n"
     ]
    }
   ],
   "source": [
    "def conv_net(x, keep_prob):\n",
    "    \"\"\"\n",
    "    Create a convolutional neural network model\n",
    "    : x: Placeholder tensor that holds image data.\n",
    "    : keep_prob: Placeholder tensor that hold dropout keep probability.\n",
    "    : return: Tensor that represents logits\n",
    "    \"\"\"\n",
    "    # Hyper parameters\n",
    "    conv_num_outputs_layer_1 = 128\n",
    "    conv_ksize_layer_1 = (3, 3)\n",
    "    conv_strides_layer_1 = (1, 1)\n",
    "    pool_ksize_layer_1 = (2, 2)\n",
    "    pool_strides_layer_1 = (2, 2)\n",
    "    \n",
    "    conv_num_outputs_layer_2 = 128\n",
    "    conv_ksize_layer_2 = (3, 3)\n",
    "    conv_strides_layer_2 = (2, 2)\n",
    "    pool_ksize_layer_2 = (2, 2)\n",
    "    pool_strides_layer_2 = (2, 2)\n",
    "    \n",
    "    conv_num_outputs_layer_3 = 256\n",
    "    conv_ksize_layer_3 = (3, 3)\n",
    "    conv_strides_layer_3 = (1, 1)\n",
    "    pool_ksize_layer_3 = (2, 2)\n",
    "    pool_strides_layer_3 = (2, 2)\n",
    "    \n",
    "    fc_layer_1_num_outputs = 512\n",
    "    fc_layer_2_num_outputs = 512\n",
    "    output_num_outputs = 10 # ten classes\n",
    "    \n",
    "    # TODO: Apply 1, 2, or 3 Convolution and Max Pool layers\n",
    "    #    Play around with different number of outputs, kernel size and stride\n",
    "    # Function Definition from Above:\n",
    "    #    conv2d_maxpool(x_tensor, conv_num_outputs, conv_ksize, conv_strides, pool_ksize, pool_strides)\n",
    "    conv_layer_1 = conv2d_maxpool(x,\n",
    "                           conv_num_outputs_layer_1,\n",
    "                           conv_ksize_layer_1,\n",
    "                           conv_strides_layer_1,\n",
    "                           pool_ksize_layer_1,\n",
    "                           pool_strides_layer_1)\n",
    "    conv_layer_2 = conv2d_maxpool(conv_layer_1,\n",
    "                           conv_num_outputs_layer_2,\n",
    "                           conv_ksize_layer_2,\n",
    "                           conv_strides_layer_2,\n",
    "                           pool_ksize_layer_2,\n",
    "                           pool_strides_layer_2)\n",
    "    conv_layer_3 = conv2d_maxpool(conv_layer_2,\n",
    "                           conv_num_outputs_layer_3,\n",
    "                           conv_ksize_layer_3,\n",
    "                           conv_strides_layer_3,\n",
    "                           pool_ksize_layer_3,\n",
    "                           pool_strides_layer_3)\n",
    "\n",
    "    # TODO: Apply a Flatten Layer\n",
    "    # Function Definition from Above:\n",
    "    #   flatten(x_tensor)\n",
    "    flatten_layer = flatten(conv_layer_3)\n",
    "\n",
    "    # TODO: Apply 1, 2, or 3 Fully Connected Layers\n",
    "    #    Play around with different number of outputs\n",
    "    # Function Definition from Above:\n",
    "    #   fully_conn(x_tensor, num_outputs)\n",
    "    # Layer 1\n",
    "    fc_layer_1 = fully_conn(flatten_layer, fc_layer_1_num_outputs)\n",
    "    fc_layer_1 = tf.nn.dropout(fc_layer_1, keep_prob)\n",
    "    \n",
    "    # Layer 2\n",
    "    fc_layer_2 = fully_conn(fc_layer_1, fc_layer_2_num_outputs)\n",
    "    fc_layer_2 = tf.nn.dropout(fc_layer_2, keep_prob)\n",
    "    \n",
    "    # TODO: Apply an Output Layer\n",
    "    #    Set this to the number of classes\n",
    "    # Function Definition from Above:\n",
    "    #   output(x_tensor, num_outputs)\n",
    "    output_layer = output(fc_layer_2, output_num_outputs)\n",
    "    \n",
    "    # TODO: return output\n",
    "    return output_layer\n",
    "\n",
    "\n",
    "\"\"\"\n",
    "DON'T MODIFY ANYTHING IN THIS CELL THAT IS BELOW THIS LINE\n",
    "\"\"\"\n",
    "\n",
    "##############################\n",
    "## Build the Neural Network ##\n",
    "##############################\n",
    "\n",
    "# Remove previous weights, bias, inputs, etc..\n",
    "tf.reset_default_graph()\n",
    "\n",
    "# Inputs\n",
    "x = neural_net_image_input((32, 32, 3))\n",
    "y = neural_net_label_input(10)\n",
    "keep_prob = neural_net_keep_prob_input()\n",
    "\n",
    "# Model\n",
    "logits = conv_net(x, keep_prob)\n",
    "\n",
    "# Name logits Tensor, so that is can be loaded from disk after training\n",
    "logits = tf.identity(logits, name='logits')\n",
    "\n",
    "# Loss and Optimizer\n",
    "cost = tf.reduce_mean(tf.nn.softmax_cross_entropy_with_logits(logits=logits, labels=y))\n",
    "optimizer = tf.train.AdamOptimizer().minimize(cost)\n",
    "\n",
    "# Accuracy\n",
    "correct_pred = tf.equal(tf.argmax(logits, 1), tf.argmax(y, 1))\n",
    "accuracy = tf.reduce_mean(tf.cast(correct_pred, tf.float32), name='accuracy')\n",
    "\n",
    "tests.test_conv_net(conv_net)"
   ]
  },
  {
   "cell_type": "markdown",
   "metadata": {
    "deletable": true,
    "editable": true
   },
   "source": [
    "## Train the Neural Network\n",
    "### Single Optimization\n",
    "Implement the function `train_neural_network` to do a single optimization.  The optimization should use `optimizer` to optimize in `session` with a `feed_dict` of the following:\n",
    "* `x` for image input\n",
    "* `y` for labels\n",
    "* `keep_prob` for keep probability for dropout\n",
    "\n",
    "This function will be called for each batch, so `tf.global_variables_initializer()` has already been called.\n",
    "\n",
    "Note: Nothing needs to be returned. This function is only optimizing the neural network."
   ]
  },
  {
   "cell_type": "code",
   "execution_count": 14,
   "metadata": {
    "collapsed": false,
    "deletable": true,
    "editable": true
   },
   "outputs": [
    {
     "name": "stdout",
     "output_type": "stream",
     "text": [
      "Tests Passed\n"
     ]
    }
   ],
   "source": [
    "def train_neural_network(session, optimizer, keep_probability, feature_batch, label_batch):\n",
    "    \"\"\"\n",
    "    Optimize the session on a batch of images and labels\n",
    "    : session: Current TensorFlow session\n",
    "    : optimizer: TensorFlow optimizer function\n",
    "    : keep_probability: keep probability\n",
    "    : feature_batch: Batch of Numpy image data\n",
    "    : label_batch: Batch of Numpy label data\n",
    "    \"\"\"\n",
    "    # TODO: Implement Function\n",
    "    feed_dict = { x: feature_batch, y: label_batch, keep_prob: keep_probability }\n",
    "    session.run(optimizer, feed_dict=feed_dict)\n",
    "\n",
    "\n",
    "\"\"\"\n",
    "DON'T MODIFY ANYTHING IN THIS CELL THAT IS BELOW THIS LINE\n",
    "\"\"\"\n",
    "tests.test_train_nn(train_neural_network)"
   ]
  },
  {
   "cell_type": "markdown",
   "metadata": {
    "deletable": true,
    "editable": true
   },
   "source": [
    "### Show Stats\n",
    "Implement the function `print_stats` to print loss and validation accuracy.  Use the global variables `valid_features` and `valid_labels` to calculate validation accuracy.  Use a keep probability of `1.0` to calculate the loss and validation accuracy."
   ]
  },
  {
   "cell_type": "code",
   "execution_count": 16,
   "metadata": {
    "collapsed": false,
    "deletable": true,
    "editable": true
   },
   "outputs": [],
   "source": [
    "def print_stats(session, feature_batch, label_batch, cost, accuracy):\n",
    "    \"\"\"\n",
    "    Print information about loss and validation accuracy\n",
    "    : session: Current TensorFlow session\n",
    "    : feature_batch: Batch of Numpy image data\n",
    "    : label_batch: Batch of Numpy label data\n",
    "    : cost: TensorFlow cost function\n",
    "    : accuracy: TensorFlow accuracy function\n",
    "    \"\"\"\n",
    "    # TODO: Implement Function\n",
    "    feed_dict_loss = { x: feature_batch, y: label_batch, keep_prob: 1.0 }\n",
    "    loss = session.run(cost, feed_dict=feed_dict_loss)\n",
    "    \n",
    "    feed_dict_accuracy = { x: valid_features, y: valid_labels, keep_prob: 1.0 }\n",
    "    valid_accuracy = session.run(accuracy, feed_dict=feed_dict_accuracy)\n",
    "    \n",
    "    print('Loss: {:>6.4f} Validation Accuracy: {:.4f}'.format(loss, valid_accuracy))"
   ]
  },
  {
   "cell_type": "markdown",
   "metadata": {
    "deletable": true,
    "editable": true
   },
   "source": [
    "### Hyperparameters\n",
    "Tune the following parameters:\n",
    "* Set `epochs` to the number of iterations until the network stops learning or start overfitting\n",
    "* Set `batch_size` to the highest number that your machine has memory for.  Most people set them to common sizes of memory:\n",
    " * 64\n",
    " * 128\n",
    " * 256\n",
    " * ...\n",
    "* Set `keep_probability` to the probability of keeping a node using dropout"
   ]
  },
  {
   "cell_type": "code",
   "execution_count": 17,
   "metadata": {
    "collapsed": true,
    "deletable": true,
    "editable": true
   },
   "outputs": [],
   "source": [
    "# TODO: Tune Parameters\n",
    "epochs = 100\n",
    "batch_size = 512\n",
    "keep_probability = 0.5"
   ]
  },
  {
   "cell_type": "markdown",
   "metadata": {
    "deletable": true,
    "editable": true
   },
   "source": [
    "### Train on a Single CIFAR-10 Batch\n",
    "Instead of training the neural network on all the CIFAR-10 batches of data, let's use a single batch. This should save time while you iterate on the model to get a better accuracy.  Once the final validation accuracy is 50% or greater, run the model on all the data in the next section."
   ]
  },
  {
   "cell_type": "code",
   "execution_count": 18,
   "metadata": {
    "collapsed": false,
    "deletable": true,
    "editable": true
   },
   "outputs": [
    {
     "name": "stdout",
     "output_type": "stream",
     "text": [
      "Checking the Training on a Single Batch...\n",
      "Epoch  1, CIFAR-10 Batch 1:  Loss: 2.2118 Validation Accuracy: 0.2000\n",
      "Epoch  2, CIFAR-10 Batch 1:  Loss: 2.1119 Validation Accuracy: 0.2500\n",
      "Epoch  3, CIFAR-10 Batch 1:  Loss: 1.9674 Validation Accuracy: 0.3068\n",
      "Epoch  4, CIFAR-10 Batch 1:  Loss: 1.8620 Validation Accuracy: 0.3370\n",
      "Epoch  5, CIFAR-10 Batch 1:  Loss: 1.7466 Validation Accuracy: 0.3828\n",
      "Epoch  6, CIFAR-10 Batch 1:  Loss: 1.6675 Validation Accuracy: 0.4034\n",
      "Epoch  7, CIFAR-10 Batch 1:  Loss: 1.5743 Validation Accuracy: 0.4200\n",
      "Epoch  8, CIFAR-10 Batch 1:  Loss: 1.5389 Validation Accuracy: 0.4232\n",
      "Epoch  9, CIFAR-10 Batch 1:  Loss: 1.4743 Validation Accuracy: 0.4506\n",
      "Epoch 10, CIFAR-10 Batch 1:  Loss: 1.3867 Validation Accuracy: 0.4662\n",
      "Epoch 11, CIFAR-10 Batch 1:  Loss: 1.3847 Validation Accuracy: 0.4754\n",
      "Epoch 12, CIFAR-10 Batch 1:  Loss: 1.3081 Validation Accuracy: 0.4976\n",
      "Epoch 13, CIFAR-10 Batch 1:  Loss: 1.2701 Validation Accuracy: 0.4994\n",
      "Epoch 14, CIFAR-10 Batch 1:  Loss: 1.1860 Validation Accuracy: 0.5130\n",
      "Epoch 15, CIFAR-10 Batch 1:  Loss: 1.1643 Validation Accuracy: 0.4962\n",
      "Epoch 16, CIFAR-10 Batch 1:  Loss: 1.1379 Validation Accuracy: 0.5038\n",
      "Epoch 17, CIFAR-10 Batch 1:  Loss: 1.0856 Validation Accuracy: 0.5262\n",
      "Epoch 18, CIFAR-10 Batch 1:  Loss: 1.0582 Validation Accuracy: 0.5300\n",
      "Epoch 19, CIFAR-10 Batch 1:  Loss: 0.9962 Validation Accuracy: 0.5262\n",
      "Epoch 20, CIFAR-10 Batch 1:  Loss: 1.0126 Validation Accuracy: 0.5124\n",
      "Epoch 21, CIFAR-10 Batch 1:  Loss: 0.9439 Validation Accuracy: 0.5268\n",
      "Epoch 22, CIFAR-10 Batch 1:  Loss: 0.8702 Validation Accuracy: 0.5544\n",
      "Epoch 23, CIFAR-10 Batch 1:  Loss: 0.8142 Validation Accuracy: 0.5586\n",
      "Epoch 24, CIFAR-10 Batch 1:  Loss: 0.7905 Validation Accuracy: 0.5546\n",
      "Epoch 25, CIFAR-10 Batch 1:  Loss: 0.7878 Validation Accuracy: 0.5508\n",
      "Epoch 26, CIFAR-10 Batch 1:  Loss: 0.7252 Validation Accuracy: 0.5530\n",
      "Epoch 27, CIFAR-10 Batch 1:  Loss: 0.7363 Validation Accuracy: 0.5378\n",
      "Epoch 28, CIFAR-10 Batch 1:  Loss: 0.6325 Validation Accuracy: 0.5734\n",
      "Epoch 29, CIFAR-10 Batch 1:  Loss: 0.6582 Validation Accuracy: 0.5752\n",
      "Epoch 30, CIFAR-10 Batch 1:  Loss: 0.5892 Validation Accuracy: 0.5754\n",
      "Epoch 31, CIFAR-10 Batch 1:  Loss: 0.5569 Validation Accuracy: 0.5648\n",
      "Epoch 32, CIFAR-10 Batch 1:  Loss: 0.5329 Validation Accuracy: 0.5698\n",
      "Epoch 33, CIFAR-10 Batch 1:  Loss: 0.5761 Validation Accuracy: 0.5374\n",
      "Epoch 34, CIFAR-10 Batch 1:  Loss: 0.5908 Validation Accuracy: 0.5484\n",
      "Epoch 35, CIFAR-10 Batch 1:  Loss: 0.4662 Validation Accuracy: 0.5904\n",
      "Epoch 36, CIFAR-10 Batch 1:  Loss: 0.4698 Validation Accuracy: 0.5780\n",
      "Epoch 37, CIFAR-10 Batch 1:  Loss: 0.4377 Validation Accuracy: 0.5764\n",
      "Epoch 38, CIFAR-10 Batch 1:  Loss: 0.4622 Validation Accuracy: 0.5722\n",
      "Epoch 39, CIFAR-10 Batch 1:  Loss: 0.4065 Validation Accuracy: 0.5812\n",
      "Epoch 40, CIFAR-10 Batch 1:  Loss: 0.3862 Validation Accuracy: 0.5840\n",
      "Epoch 41, CIFAR-10 Batch 1:  Loss: 0.3707 Validation Accuracy: 0.5836\n",
      "Epoch 42, CIFAR-10 Batch 1:  Loss: 0.3120 Validation Accuracy: 0.5896\n",
      "Epoch 43, CIFAR-10 Batch 1:  Loss: 0.2780 Validation Accuracy: 0.5986\n",
      "Epoch 44, CIFAR-10 Batch 1:  Loss: 0.2716 Validation Accuracy: 0.5942\n",
      "Epoch 45, CIFAR-10 Batch 1:  Loss: 0.2488 Validation Accuracy: 0.6058\n",
      "Epoch 46, CIFAR-10 Batch 1:  Loss: 0.2487 Validation Accuracy: 0.6002\n",
      "Epoch 47, CIFAR-10 Batch 1:  Loss: 0.2600 Validation Accuracy: 0.5976\n",
      "Epoch 48, CIFAR-10 Batch 1:  Loss: 0.2539 Validation Accuracy: 0.5766\n",
      "Epoch 49, CIFAR-10 Batch 1:  Loss: 0.2474 Validation Accuracy: 0.5826\n",
      "Epoch 50, CIFAR-10 Batch 1:  Loss: 0.2380 Validation Accuracy: 0.5676\n",
      "Epoch 51, CIFAR-10 Batch 1:  Loss: 0.2599 Validation Accuracy: 0.5822\n",
      "Epoch 52, CIFAR-10 Batch 1:  Loss: 0.1907 Validation Accuracy: 0.5960\n",
      "Epoch 53, CIFAR-10 Batch 1:  Loss: 0.1535 Validation Accuracy: 0.5952\n",
      "Epoch 54, CIFAR-10 Batch 1:  Loss: 0.1405 Validation Accuracy: 0.5992\n",
      "Epoch 55, CIFAR-10 Batch 1:  Loss: 0.1639 Validation Accuracy: 0.5912\n",
      "Epoch 56, CIFAR-10 Batch 1:  Loss: 0.1243 Validation Accuracy: 0.6142\n",
      "Epoch 57, CIFAR-10 Batch 1:  Loss: 0.1237 Validation Accuracy: 0.5992\n",
      "Epoch 58, CIFAR-10 Batch 1:  Loss: 0.1328 Validation Accuracy: 0.5954\n",
      "Epoch 59, CIFAR-10 Batch 1:  Loss: 0.1310 Validation Accuracy: 0.5754\n",
      "Epoch 60, CIFAR-10 Batch 1:  Loss: 0.1279 Validation Accuracy: 0.5900\n",
      "Epoch 61, CIFAR-10 Batch 1:  Loss: 0.1182 Validation Accuracy: 0.5940\n",
      "Epoch 62, CIFAR-10 Batch 1:  Loss: 0.1056 Validation Accuracy: 0.5938\n",
      "Epoch 63, CIFAR-10 Batch 1:  Loss: 0.0826 Validation Accuracy: 0.6042\n",
      "Epoch 64, CIFAR-10 Batch 1:  Loss: 0.1287 Validation Accuracy: 0.5730\n",
      "Epoch 65, CIFAR-10 Batch 1:  Loss: 0.0693 Validation Accuracy: 0.6042\n",
      "Epoch 66, CIFAR-10 Batch 1:  Loss: 0.0654 Validation Accuracy: 0.6130\n",
      "Epoch 67, CIFAR-10 Batch 1:  Loss: 0.0772 Validation Accuracy: 0.5916\n",
      "Epoch 68, CIFAR-10 Batch 1:  Loss: 0.0723 Validation Accuracy: 0.6008\n",
      "Epoch 69, CIFAR-10 Batch 1:  Loss: 0.0494 Validation Accuracy: 0.6002\n",
      "Epoch 70, CIFAR-10 Batch 1:  Loss: 0.0501 Validation Accuracy: 0.5926\n",
      "Epoch 71, CIFAR-10 Batch 1:  Loss: 0.0438 Validation Accuracy: 0.5910\n",
      "Epoch 72, CIFAR-10 Batch 1:  Loss: 0.0415 Validation Accuracy: 0.5744\n",
      "Epoch 73, CIFAR-10 Batch 1:  Loss: 0.0597 Validation Accuracy: 0.5738\n",
      "Epoch 74, CIFAR-10 Batch 1:  Loss: 0.0377 Validation Accuracy: 0.5986\n",
      "Epoch 75, CIFAR-10 Batch 1:  Loss: 0.0526 Validation Accuracy: 0.5976\n",
      "Epoch 76, CIFAR-10 Batch 1:  Loss: 0.0447 Validation Accuracy: 0.5984\n",
      "Epoch 77, CIFAR-10 Batch 1:  Loss: 0.0377 Validation Accuracy: 0.6070\n",
      "Epoch 78, CIFAR-10 Batch 1:  Loss: 0.0561 Validation Accuracy: 0.5856\n",
      "Epoch 79, CIFAR-10 Batch 1:  Loss: 0.0296 Validation Accuracy: 0.6066\n",
      "Epoch 80, CIFAR-10 Batch 1:  Loss: 0.0324 Validation Accuracy: 0.6020\n",
      "Epoch 81, CIFAR-10 Batch 1:  Loss: 0.0292 Validation Accuracy: 0.5916\n",
      "Epoch 82, CIFAR-10 Batch 1:  Loss: 0.0219 Validation Accuracy: 0.5970\n",
      "Epoch 83, CIFAR-10 Batch 1:  Loss: 0.0248 Validation Accuracy: 0.5968\n",
      "Epoch 84, CIFAR-10 Batch 1:  Loss: 0.0247 Validation Accuracy: 0.6020\n",
      "Epoch 85, CIFAR-10 Batch 1:  Loss: 0.0233 Validation Accuracy: 0.5986\n",
      "Epoch 86, CIFAR-10 Batch 1:  Loss: 0.0406 Validation Accuracy: 0.5896\n",
      "Epoch 87, CIFAR-10 Batch 1:  Loss: 0.0332 Validation Accuracy: 0.5824\n",
      "Epoch 88, CIFAR-10 Batch 1:  Loss: 0.0478 Validation Accuracy: 0.5800\n",
      "Epoch 89, CIFAR-10 Batch 1:  Loss: 0.0819 Validation Accuracy: 0.5792\n",
      "Epoch 90, CIFAR-10 Batch 1:  Loss: 0.0570 Validation Accuracy: 0.5858\n",
      "Epoch 91, CIFAR-10 Batch 1:  Loss: 0.0383 Validation Accuracy: 0.5980\n",
      "Epoch 92, CIFAR-10 Batch 1:  Loss: 0.0245 Validation Accuracy: 0.5998\n",
      "Epoch 93, CIFAR-10 Batch 1:  Loss: 0.0212 Validation Accuracy: 0.5948\n",
      "Epoch 94, CIFAR-10 Batch 1:  Loss: 0.0220 Validation Accuracy: 0.5782\n",
      "Epoch 95, CIFAR-10 Batch 1:  Loss: 0.0150 Validation Accuracy: 0.6134\n",
      "Epoch 96, CIFAR-10 Batch 1:  Loss: 0.0096 Validation Accuracy: 0.6130\n",
      "Epoch 97, CIFAR-10 Batch 1:  Loss: 0.0053 Validation Accuracy: 0.6068\n",
      "Epoch 98, CIFAR-10 Batch 1:  Loss: 0.0063 Validation Accuracy: 0.6198\n",
      "Epoch 99, CIFAR-10 Batch 1:  Loss: 0.0037 Validation Accuracy: 0.6112\n",
      "Epoch 100, CIFAR-10 Batch 1:  Loss: 0.0057 Validation Accuracy: 0.5988\n"
     ]
    }
   ],
   "source": [
    "\"\"\"\n",
    "DON'T MODIFY ANYTHING IN THIS CELL\n",
    "\"\"\"\n",
    "print('Checking the Training on a Single Batch...')\n",
    "with tf.Session() as sess:\n",
    "    # Initializing the variables\n",
    "    sess.run(tf.global_variables_initializer())\n",
    "    \n",
    "    # Training cycle\n",
    "    for epoch in range(epochs):\n",
    "        batch_i = 1\n",
    "        for batch_features, batch_labels in helper.load_preprocess_training_batch(batch_i, batch_size):\n",
    "            train_neural_network(sess, optimizer, keep_probability, batch_features, batch_labels)\n",
    "        print('Epoch {:>2}, CIFAR-10 Batch {}:  '.format(epoch + 1, batch_i), end='')\n",
    "        print_stats(sess, batch_features, batch_labels, cost, accuracy)"
   ]
  },
  {
   "cell_type": "markdown",
   "metadata": {
    "deletable": true,
    "editable": true
   },
   "source": [
    "### Fully Train the Model\n",
    "Now that you got a good accuracy with a single CIFAR-10 batch, try it with all five batches."
   ]
  },
  {
   "cell_type": "code",
   "execution_count": 19,
   "metadata": {
    "collapsed": false,
    "deletable": true,
    "editable": true
   },
   "outputs": [
    {
     "name": "stdout",
     "output_type": "stream",
     "text": [
      "Training...\n",
      "Epoch  1, CIFAR-10 Batch 1:  Loss: 2.2146 Validation Accuracy: 0.2082\n",
      "Epoch  1, CIFAR-10 Batch 2:  Loss: 2.1063 Validation Accuracy: 0.2620\n",
      "Epoch  1, CIFAR-10 Batch 3:  Loss: 1.9131 Validation Accuracy: 0.3292\n",
      "Epoch  1, CIFAR-10 Batch 4:  Loss: 1.7866 Validation Accuracy: 0.3466\n",
      "Epoch  1, CIFAR-10 Batch 5:  Loss: 1.7602 Validation Accuracy: 0.3778\n",
      "Epoch  2, CIFAR-10 Batch 1:  Loss: 1.7834 Validation Accuracy: 0.4054\n",
      "Epoch  2, CIFAR-10 Batch 2:  Loss: 1.6422 Validation Accuracy: 0.4294\n",
      "Epoch  2, CIFAR-10 Batch 3:  Loss: 1.4307 Validation Accuracy: 0.4438\n",
      "Epoch  2, CIFAR-10 Batch 4:  Loss: 1.4641 Validation Accuracy: 0.4498\n",
      "Epoch  2, CIFAR-10 Batch 5:  Loss: 1.4472 Validation Accuracy: 0.4546\n",
      "Epoch  3, CIFAR-10 Batch 1:  Loss: 1.5597 Validation Accuracy: 0.4668\n",
      "Epoch  3, CIFAR-10 Batch 2:  Loss: 1.4159 Validation Accuracy: 0.4972\n",
      "Epoch  3, CIFAR-10 Batch 3:  Loss: 1.2440 Validation Accuracy: 0.5008\n",
      "Epoch  3, CIFAR-10 Batch 4:  Loss: 1.3092 Validation Accuracy: 0.4878\n",
      "Epoch  3, CIFAR-10 Batch 5:  Loss: 1.2980 Validation Accuracy: 0.5122\n",
      "Epoch  4, CIFAR-10 Batch 1:  Loss: 1.4789 Validation Accuracy: 0.4970\n",
      "Epoch  4, CIFAR-10 Batch 2:  Loss: 1.3446 Validation Accuracy: 0.5124\n",
      "Epoch  4, CIFAR-10 Batch 3:  Loss: 1.1889 Validation Accuracy: 0.5284\n",
      "Epoch  4, CIFAR-10 Batch 4:  Loss: 1.1989 Validation Accuracy: 0.5306\n",
      "Epoch  4, CIFAR-10 Batch 5:  Loss: 1.1832 Validation Accuracy: 0.5436\n",
      "Epoch  5, CIFAR-10 Batch 1:  Loss: 1.3340 Validation Accuracy: 0.5260\n",
      "Epoch  5, CIFAR-10 Batch 2:  Loss: 1.2586 Validation Accuracy: 0.5350\n",
      "Epoch  5, CIFAR-10 Batch 3:  Loss: 1.1027 Validation Accuracy: 0.5402\n",
      "Epoch  5, CIFAR-10 Batch 4:  Loss: 1.0894 Validation Accuracy: 0.5636\n",
      "Epoch  5, CIFAR-10 Batch 5:  Loss: 1.1220 Validation Accuracy: 0.5468\n",
      "Epoch  6, CIFAR-10 Batch 1:  Loss: 1.2219 Validation Accuracy: 0.5562\n",
      "Epoch  6, CIFAR-10 Batch 2:  Loss: 1.1293 Validation Accuracy: 0.5548\n",
      "Epoch  6, CIFAR-10 Batch 3:  Loss: 1.1123 Validation Accuracy: 0.5458\n",
      "Epoch  6, CIFAR-10 Batch 4:  Loss: 1.0300 Validation Accuracy: 0.5738\n",
      "Epoch  6, CIFAR-10 Batch 5:  Loss: 1.0385 Validation Accuracy: 0.5816\n",
      "Epoch  7, CIFAR-10 Batch 1:  Loss: 1.1230 Validation Accuracy: 0.5678\n",
      "Epoch  7, CIFAR-10 Batch 2:  Loss: 1.0945 Validation Accuracy: 0.5692\n",
      "Epoch  7, CIFAR-10 Batch 3:  Loss: 0.9905 Validation Accuracy: 0.5836\n",
      "Epoch  7, CIFAR-10 Batch 4:  Loss: 0.9505 Validation Accuracy: 0.5864\n",
      "Epoch  7, CIFAR-10 Batch 5:  Loss: 0.9853 Validation Accuracy: 0.5920\n",
      "Epoch  8, CIFAR-10 Batch 1:  Loss: 1.0608 Validation Accuracy: 0.5922\n",
      "Epoch  8, CIFAR-10 Batch 2:  Loss: 0.9800 Validation Accuracy: 0.6006\n",
      "Epoch  8, CIFAR-10 Batch 3:  Loss: 0.8802 Validation Accuracy: 0.6054\n",
      "Epoch  8, CIFAR-10 Batch 4:  Loss: 0.8885 Validation Accuracy: 0.6048\n",
      "Epoch  8, CIFAR-10 Batch 5:  Loss: 0.9558 Validation Accuracy: 0.5996\n",
      "Epoch  9, CIFAR-10 Batch 1:  Loss: 0.9881 Validation Accuracy: 0.6142\n",
      "Epoch  9, CIFAR-10 Batch 2:  Loss: 0.9631 Validation Accuracy: 0.5880\n",
      "Epoch  9, CIFAR-10 Batch 3:  Loss: 0.8739 Validation Accuracy: 0.5980\n",
      "Epoch  9, CIFAR-10 Batch 4:  Loss: 0.8543 Validation Accuracy: 0.6012\n",
      "Epoch  9, CIFAR-10 Batch 5:  Loss: 0.8891 Validation Accuracy: 0.6258\n",
      "Epoch 10, CIFAR-10 Batch 1:  Loss: 0.9214 Validation Accuracy: 0.6230\n",
      "Epoch 10, CIFAR-10 Batch 2:  Loss: 0.9049 Validation Accuracy: 0.5984\n",
      "Epoch 10, CIFAR-10 Batch 3:  Loss: 0.8399 Validation Accuracy: 0.6054\n",
      "Epoch 10, CIFAR-10 Batch 4:  Loss: 0.7788 Validation Accuracy: 0.6382\n",
      "Epoch 10, CIFAR-10 Batch 5:  Loss: 0.8161 Validation Accuracy: 0.6378\n",
      "Epoch 11, CIFAR-10 Batch 1:  Loss: 0.8852 Validation Accuracy: 0.6290\n",
      "Epoch 11, CIFAR-10 Batch 2:  Loss: 0.9078 Validation Accuracy: 0.6008\n",
      "Epoch 11, CIFAR-10 Batch 3:  Loss: 0.7453 Validation Accuracy: 0.6304\n",
      "Epoch 11, CIFAR-10 Batch 4:  Loss: 0.7677 Validation Accuracy: 0.6392\n",
      "Epoch 11, CIFAR-10 Batch 5:  Loss: 0.7765 Validation Accuracy: 0.6392\n",
      "Epoch 12, CIFAR-10 Batch 1:  Loss: 0.8298 Validation Accuracy: 0.6484\n",
      "Epoch 12, CIFAR-10 Batch 2:  Loss: 0.8065 Validation Accuracy: 0.6400\n",
      "Epoch 12, CIFAR-10 Batch 3:  Loss: 0.6831 Validation Accuracy: 0.6506\n",
      "Epoch 12, CIFAR-10 Batch 4:  Loss: 0.6972 Validation Accuracy: 0.6534\n",
      "Epoch 12, CIFAR-10 Batch 5:  Loss: 0.7505 Validation Accuracy: 0.6482\n",
      "Epoch 13, CIFAR-10 Batch 1:  Loss: 0.7766 Validation Accuracy: 0.6610\n",
      "Epoch 13, CIFAR-10 Batch 2:  Loss: 0.7536 Validation Accuracy: 0.6424\n",
      "Epoch 13, CIFAR-10 Batch 3:  Loss: 0.6321 Validation Accuracy: 0.6532\n",
      "Epoch 13, CIFAR-10 Batch 4:  Loss: 0.6623 Validation Accuracy: 0.6618\n",
      "Epoch 13, CIFAR-10 Batch 5:  Loss: 0.7043 Validation Accuracy: 0.6570\n",
      "Epoch 14, CIFAR-10 Batch 1:  Loss: 0.7266 Validation Accuracy: 0.6740\n",
      "Epoch 14, CIFAR-10 Batch 2:  Loss: 0.7083 Validation Accuracy: 0.6428\n",
      "Epoch 14, CIFAR-10 Batch 3:  Loss: 0.5930 Validation Accuracy: 0.6638\n",
      "Epoch 14, CIFAR-10 Batch 4:  Loss: 0.6527 Validation Accuracy: 0.6550\n",
      "Epoch 14, CIFAR-10 Batch 5:  Loss: 0.6735 Validation Accuracy: 0.6722\n",
      "Epoch 15, CIFAR-10 Batch 1:  Loss: 0.7106 Validation Accuracy: 0.6686\n",
      "Epoch 15, CIFAR-10 Batch 2:  Loss: 0.6706 Validation Accuracy: 0.6590\n",
      "Epoch 15, CIFAR-10 Batch 3:  Loss: 0.5691 Validation Accuracy: 0.6622\n",
      "Epoch 15, CIFAR-10 Batch 4:  Loss: 0.5908 Validation Accuracy: 0.6594\n",
      "Epoch 15, CIFAR-10 Batch 5:  Loss: 0.6336 Validation Accuracy: 0.6780\n",
      "Epoch 16, CIFAR-10 Batch 1:  Loss: 0.6663 Validation Accuracy: 0.6758\n",
      "Epoch 16, CIFAR-10 Batch 2:  Loss: 0.6084 Validation Accuracy: 0.6742\n",
      "Epoch 16, CIFAR-10 Batch 3:  Loss: 0.5213 Validation Accuracy: 0.6786\n",
      "Epoch 16, CIFAR-10 Batch 4:  Loss: 0.5342 Validation Accuracy: 0.6758\n",
      "Epoch 16, CIFAR-10 Batch 5:  Loss: 0.5887 Validation Accuracy: 0.6836\n",
      "Epoch 17, CIFAR-10 Batch 1:  Loss: 0.6409 Validation Accuracy: 0.6812\n",
      "Epoch 17, CIFAR-10 Batch 2:  Loss: 0.6039 Validation Accuracy: 0.6656\n",
      "Epoch 17, CIFAR-10 Batch 3:  Loss: 0.4933 Validation Accuracy: 0.6832\n",
      "Epoch 17, CIFAR-10 Batch 4:  Loss: 0.4892 Validation Accuracy: 0.6890\n",
      "Epoch 17, CIFAR-10 Batch 5:  Loss: 0.5536 Validation Accuracy: 0.6774\n",
      "Epoch 18, CIFAR-10 Batch 1:  Loss: 0.6197 Validation Accuracy: 0.6756\n",
      "Epoch 18, CIFAR-10 Batch 2:  Loss: 0.5530 Validation Accuracy: 0.6718\n",
      "Epoch 18, CIFAR-10 Batch 3:  Loss: 0.4298 Validation Accuracy: 0.6928\n",
      "Epoch 18, CIFAR-10 Batch 4:  Loss: 0.4450 Validation Accuracy: 0.6906\n",
      "Epoch 18, CIFAR-10 Batch 5:  Loss: 0.4939 Validation Accuracy: 0.6992\n",
      "Epoch 19, CIFAR-10 Batch 1:  Loss: 0.6026 Validation Accuracy: 0.6624\n",
      "Epoch 19, CIFAR-10 Batch 2:  Loss: 0.4747 Validation Accuracy: 0.6932\n",
      "Epoch 19, CIFAR-10 Batch 3:  Loss: 0.4302 Validation Accuracy: 0.6888\n",
      "Epoch 19, CIFAR-10 Batch 4:  Loss: 0.4233 Validation Accuracy: 0.6920\n",
      "Epoch 19, CIFAR-10 Batch 5:  Loss: 0.4821 Validation Accuracy: 0.6888\n",
      "Epoch 20, CIFAR-10 Batch 1:  Loss: 0.4932 Validation Accuracy: 0.6846\n",
      "Epoch 20, CIFAR-10 Batch 2:  Loss: 0.4508 Validation Accuracy: 0.6986\n",
      "Epoch 20, CIFAR-10 Batch 3:  Loss: 0.3963 Validation Accuracy: 0.6906\n",
      "Epoch 20, CIFAR-10 Batch 4:  Loss: 0.4208 Validation Accuracy: 0.6968\n",
      "Epoch 20, CIFAR-10 Batch 5:  Loss: 0.4554 Validation Accuracy: 0.6926\n",
      "Epoch 21, CIFAR-10 Batch 1:  Loss: 0.4782 Validation Accuracy: 0.6792\n",
      "Epoch 21, CIFAR-10 Batch 2:  Loss: 0.4762 Validation Accuracy: 0.6900\n",
      "Epoch 21, CIFAR-10 Batch 3:  Loss: 0.3600 Validation Accuracy: 0.6914\n",
      "Epoch 21, CIFAR-10 Batch 4:  Loss: 0.3658 Validation Accuracy: 0.6942\n",
      "Epoch 21, CIFAR-10 Batch 5:  Loss: 0.3925 Validation Accuracy: 0.7008\n",
      "Epoch 22, CIFAR-10 Batch 1:  Loss: 0.4303 Validation Accuracy: 0.6910\n",
      "Epoch 22, CIFAR-10 Batch 2:  Loss: 0.3852 Validation Accuracy: 0.7010\n",
      "Epoch 22, CIFAR-10 Batch 3:  Loss: 0.3322 Validation Accuracy: 0.7012\n",
      "Epoch 22, CIFAR-10 Batch 4:  Loss: 0.3639 Validation Accuracy: 0.6958\n",
      "Epoch 22, CIFAR-10 Batch 5:  Loss: 0.3652 Validation Accuracy: 0.7026\n",
      "Epoch 23, CIFAR-10 Batch 1:  Loss: 0.4105 Validation Accuracy: 0.6936\n",
      "Epoch 23, CIFAR-10 Batch 2:  Loss: 0.4377 Validation Accuracy: 0.6872\n",
      "Epoch 23, CIFAR-10 Batch 3:  Loss: 0.3364 Validation Accuracy: 0.6948\n",
      "Epoch 23, CIFAR-10 Batch 4:  Loss: 0.3520 Validation Accuracy: 0.6982\n",
      "Epoch 23, CIFAR-10 Batch 5:  Loss: 0.3443 Validation Accuracy: 0.7044\n",
      "Epoch 24, CIFAR-10 Batch 1:  Loss: 0.4080 Validation Accuracy: 0.6866\n",
      "Epoch 24, CIFAR-10 Batch 2:  Loss: 0.4520 Validation Accuracy: 0.6668\n",
      "Epoch 24, CIFAR-10 Batch 3:  Loss: 0.3628 Validation Accuracy: 0.6744\n",
      "Epoch 24, CIFAR-10 Batch 4:  Loss: 0.3187 Validation Accuracy: 0.7042\n",
      "Epoch 24, CIFAR-10 Batch 5:  Loss: 0.3238 Validation Accuracy: 0.6984\n",
      "Epoch 25, CIFAR-10 Batch 1:  Loss: 0.3753 Validation Accuracy: 0.6964\n",
      "Epoch 25, CIFAR-10 Batch 2:  Loss: 0.3742 Validation Accuracy: 0.6898\n",
      "Epoch 25, CIFAR-10 Batch 3:  Loss: 0.2927 Validation Accuracy: 0.7030\n",
      "Epoch 25, CIFAR-10 Batch 4:  Loss: 0.3182 Validation Accuracy: 0.6974\n",
      "Epoch 25, CIFAR-10 Batch 5:  Loss: 0.3226 Validation Accuracy: 0.6884\n",
      "Epoch 26, CIFAR-10 Batch 1:  Loss: 0.3454 Validation Accuracy: 0.6998\n",
      "Epoch 26, CIFAR-10 Batch 2:  Loss: 0.3736 Validation Accuracy: 0.6900\n",
      "Epoch 26, CIFAR-10 Batch 3:  Loss: 0.2616 Validation Accuracy: 0.7082\n",
      "Epoch 26, CIFAR-10 Batch 4:  Loss: 0.3091 Validation Accuracy: 0.6994\n",
      "Epoch 26, CIFAR-10 Batch 5:  Loss: 0.2769 Validation Accuracy: 0.7026\n",
      "Epoch 27, CIFAR-10 Batch 1:  Loss: 0.3182 Validation Accuracy: 0.7064\n",
      "Epoch 27, CIFAR-10 Batch 2:  Loss: 0.3223 Validation Accuracy: 0.6964\n",
      "Epoch 27, CIFAR-10 Batch 3:  Loss: 0.2306 Validation Accuracy: 0.7052\n",
      "Epoch 27, CIFAR-10 Batch 4:  Loss: 0.2630 Validation Accuracy: 0.7072\n",
      "Epoch 27, CIFAR-10 Batch 5:  Loss: 0.2414 Validation Accuracy: 0.6958\n",
      "Epoch 28, CIFAR-10 Batch 1:  Loss: 0.3569 Validation Accuracy: 0.7020\n",
      "Epoch 28, CIFAR-10 Batch 2:  Loss: 0.3068 Validation Accuracy: 0.6918\n",
      "Epoch 28, CIFAR-10 Batch 3:  Loss: 0.2330 Validation Accuracy: 0.7012\n",
      "Epoch 28, CIFAR-10 Batch 4:  Loss: 0.2701 Validation Accuracy: 0.6966\n",
      "Epoch 28, CIFAR-10 Batch 5:  Loss: 0.2524 Validation Accuracy: 0.6852\n",
      "Epoch 29, CIFAR-10 Batch 1:  Loss: 0.3235 Validation Accuracy: 0.7070\n",
      "Epoch 29, CIFAR-10 Batch 2:  Loss: 0.3123 Validation Accuracy: 0.6844\n",
      "Epoch 29, CIFAR-10 Batch 3:  Loss: 0.2234 Validation Accuracy: 0.7048\n",
      "Epoch 29, CIFAR-10 Batch 4:  Loss: 0.2644 Validation Accuracy: 0.6896\n",
      "Epoch 29, CIFAR-10 Batch 5:  Loss: 0.2403 Validation Accuracy: 0.6848\n",
      "Epoch 30, CIFAR-10 Batch 1:  Loss: 0.3426 Validation Accuracy: 0.6772\n",
      "Epoch 30, CIFAR-10 Batch 2:  Loss: 0.2989 Validation Accuracy: 0.6954\n",
      "Epoch 30, CIFAR-10 Batch 3:  Loss: 0.1952 Validation Accuracy: 0.7054\n",
      "Epoch 30, CIFAR-10 Batch 4:  Loss: 0.2692 Validation Accuracy: 0.6726\n",
      "Epoch 30, CIFAR-10 Batch 5:  Loss: 0.1902 Validation Accuracy: 0.6978\n",
      "Epoch 31, CIFAR-10 Batch 1:  Loss: 0.2922 Validation Accuracy: 0.6862\n",
      "Epoch 31, CIFAR-10 Batch 2:  Loss: 0.2697 Validation Accuracy: 0.6926\n",
      "Epoch 31, CIFAR-10 Batch 3:  Loss: 0.2392 Validation Accuracy: 0.6916\n",
      "Epoch 31, CIFAR-10 Batch 4:  Loss: 0.2519 Validation Accuracy: 0.6956\n",
      "Epoch 31, CIFAR-10 Batch 5:  Loss: 0.2389 Validation Accuracy: 0.6920\n",
      "Epoch 32, CIFAR-10 Batch 1:  Loss: 0.2504 Validation Accuracy: 0.6988\n",
      "Epoch 32, CIFAR-10 Batch 2:  Loss: 0.2203 Validation Accuracy: 0.6960\n",
      "Epoch 32, CIFAR-10 Batch 3:  Loss: 0.2131 Validation Accuracy: 0.6886\n",
      "Epoch 32, CIFAR-10 Batch 4:  Loss: 0.2196 Validation Accuracy: 0.6850\n",
      "Epoch 32, CIFAR-10 Batch 5:  Loss: 0.2095 Validation Accuracy: 0.6862\n",
      "Epoch 33, CIFAR-10 Batch 1:  Loss: 0.2560 Validation Accuracy: 0.7044\n",
      "Epoch 33, CIFAR-10 Batch 2:  Loss: 0.1973 Validation Accuracy: 0.7044\n",
      "Epoch 33, CIFAR-10 Batch 3:  Loss: 0.1984 Validation Accuracy: 0.6978\n",
      "Epoch 33, CIFAR-10 Batch 4:  Loss: 0.1721 Validation Accuracy: 0.6944\n",
      "Epoch 33, CIFAR-10 Batch 5:  Loss: 0.1772 Validation Accuracy: 0.6922\n",
      "Epoch 34, CIFAR-10 Batch 1:  Loss: 0.2527 Validation Accuracy: 0.6996\n",
      "Epoch 34, CIFAR-10 Batch 2:  Loss: 0.1911 Validation Accuracy: 0.7140\n",
      "Epoch 34, CIFAR-10 Batch 3:  Loss: 0.1600 Validation Accuracy: 0.7050\n",
      "Epoch 34, CIFAR-10 Batch 4:  Loss: 0.2244 Validation Accuracy: 0.6800\n",
      "Epoch 34, CIFAR-10 Batch 5:  Loss: 0.1539 Validation Accuracy: 0.7066\n",
      "Epoch 35, CIFAR-10 Batch 1:  Loss: 0.2605 Validation Accuracy: 0.6846\n",
      "Epoch 35, CIFAR-10 Batch 2:  Loss: 0.2274 Validation Accuracy: 0.6924\n",
      "Epoch 35, CIFAR-10 Batch 3:  Loss: 0.1576 Validation Accuracy: 0.6918\n",
      "Epoch 35, CIFAR-10 Batch 4:  Loss: 0.1793 Validation Accuracy: 0.6918\n",
      "Epoch 35, CIFAR-10 Batch 5:  Loss: 0.1700 Validation Accuracy: 0.6940\n",
      "Epoch 36, CIFAR-10 Batch 1:  Loss: 0.2116 Validation Accuracy: 0.7066\n",
      "Epoch 36, CIFAR-10 Batch 2:  Loss: 0.1628 Validation Accuracy: 0.7088\n",
      "Epoch 36, CIFAR-10 Batch 3:  Loss: 0.1614 Validation Accuracy: 0.6890\n",
      "Epoch 36, CIFAR-10 Batch 4:  Loss: 0.1782 Validation Accuracy: 0.6824\n",
      "Epoch 36, CIFAR-10 Batch 5:  Loss: 0.1427 Validation Accuracy: 0.7004\n",
      "Epoch 37, CIFAR-10 Batch 1:  Loss: 0.2065 Validation Accuracy: 0.6886\n",
      "Epoch 37, CIFAR-10 Batch 2:  Loss: 0.1641 Validation Accuracy: 0.7070\n",
      "Epoch 37, CIFAR-10 Batch 3:  Loss: 0.1522 Validation Accuracy: 0.7010\n",
      "Epoch 37, CIFAR-10 Batch 4:  Loss: 0.1726 Validation Accuracy: 0.6924\n",
      "Epoch 37, CIFAR-10 Batch 5:  Loss: 0.1747 Validation Accuracy: 0.6750\n",
      "Epoch 38, CIFAR-10 Batch 1:  Loss: 0.1968 Validation Accuracy: 0.7034\n",
      "Epoch 38, CIFAR-10 Batch 2:  Loss: 0.1515 Validation Accuracy: 0.7174\n",
      "Epoch 38, CIFAR-10 Batch 3:  Loss: 0.1134 Validation Accuracy: 0.7020\n",
      "Epoch 38, CIFAR-10 Batch 4:  Loss: 0.1309 Validation Accuracy: 0.7038\n",
      "Epoch 38, CIFAR-10 Batch 5:  Loss: 0.1347 Validation Accuracy: 0.6880\n",
      "Epoch 39, CIFAR-10 Batch 1:  Loss: 0.1864 Validation Accuracy: 0.7080\n",
      "Epoch 39, CIFAR-10 Batch 2:  Loss: 0.1225 Validation Accuracy: 0.7124\n",
      "Epoch 39, CIFAR-10 Batch 3:  Loss: 0.1215 Validation Accuracy: 0.6914\n",
      "Epoch 39, CIFAR-10 Batch 4:  Loss: 0.1440 Validation Accuracy: 0.6882\n",
      "Epoch 39, CIFAR-10 Batch 5:  Loss: 0.1362 Validation Accuracy: 0.6976\n",
      "Epoch 40, CIFAR-10 Batch 1:  Loss: 0.1683 Validation Accuracy: 0.7010\n",
      "Epoch 40, CIFAR-10 Batch 2:  Loss: 0.1364 Validation Accuracy: 0.7046\n",
      "Epoch 40, CIFAR-10 Batch 3:  Loss: 0.0992 Validation Accuracy: 0.7094\n",
      "Epoch 40, CIFAR-10 Batch 4:  Loss: 0.1592 Validation Accuracy: 0.6678\n",
      "Epoch 40, CIFAR-10 Batch 5:  Loss: 0.1455 Validation Accuracy: 0.6910\n",
      "Epoch 41, CIFAR-10 Batch 1:  Loss: 0.1619 Validation Accuracy: 0.6866\n",
      "Epoch 41, CIFAR-10 Batch 2:  Loss: 0.1250 Validation Accuracy: 0.7038\n",
      "Epoch 41, CIFAR-10 Batch 3:  Loss: 0.1199 Validation Accuracy: 0.6912\n",
      "Epoch 41, CIFAR-10 Batch 4:  Loss: 0.1184 Validation Accuracy: 0.6968\n",
      "Epoch 41, CIFAR-10 Batch 5:  Loss: 0.1179 Validation Accuracy: 0.7020\n",
      "Epoch 42, CIFAR-10 Batch 1:  Loss: 0.1303 Validation Accuracy: 0.6980\n",
      "Epoch 42, CIFAR-10 Batch 2:  Loss: 0.0980 Validation Accuracy: 0.7152\n",
      "Epoch 42, CIFAR-10 Batch 3:  Loss: 0.0942 Validation Accuracy: 0.7044\n",
      "Epoch 42, CIFAR-10 Batch 4:  Loss: 0.0928 Validation Accuracy: 0.6936\n",
      "Epoch 42, CIFAR-10 Batch 5:  Loss: 0.0914 Validation Accuracy: 0.7006\n",
      "Epoch 43, CIFAR-10 Batch 1:  Loss: 0.1081 Validation Accuracy: 0.7104\n",
      "Epoch 43, CIFAR-10 Batch 2:  Loss: 0.0803 Validation Accuracy: 0.7152\n",
      "Epoch 43, CIFAR-10 Batch 3:  Loss: 0.0830 Validation Accuracy: 0.7054\n",
      "Epoch 43, CIFAR-10 Batch 4:  Loss: 0.0952 Validation Accuracy: 0.7084\n",
      "Epoch 43, CIFAR-10 Batch 5:  Loss: 0.1108 Validation Accuracy: 0.6842\n",
      "Epoch 44, CIFAR-10 Batch 1:  Loss: 0.1275 Validation Accuracy: 0.7106\n",
      "Epoch 44, CIFAR-10 Batch 2:  Loss: 0.0866 Validation Accuracy: 0.7102\n",
      "Epoch 44, CIFAR-10 Batch 3:  Loss: 0.0742 Validation Accuracy: 0.7112\n",
      "Epoch 44, CIFAR-10 Batch 4:  Loss: 0.0861 Validation Accuracy: 0.7074\n",
      "Epoch 44, CIFAR-10 Batch 5:  Loss: 0.0659 Validation Accuracy: 0.6974\n",
      "Epoch 45, CIFAR-10 Batch 1:  Loss: 0.0967 Validation Accuracy: 0.7102\n",
      "Epoch 45, CIFAR-10 Batch 2:  Loss: 0.0699 Validation Accuracy: 0.7224\n",
      "Epoch 45, CIFAR-10 Batch 3:  Loss: 0.0730 Validation Accuracy: 0.7088\n",
      "Epoch 45, CIFAR-10 Batch 4:  Loss: 0.0985 Validation Accuracy: 0.6814\n",
      "Epoch 45, CIFAR-10 Batch 5:  Loss: 0.0951 Validation Accuracy: 0.6750\n",
      "Epoch 46, CIFAR-10 Batch 1:  Loss: 0.0910 Validation Accuracy: 0.7032\n",
      "Epoch 46, CIFAR-10 Batch 2:  Loss: 0.0725 Validation Accuracy: 0.7120\n",
      "Epoch 46, CIFAR-10 Batch 3:  Loss: 0.0653 Validation Accuracy: 0.7076\n",
      "Epoch 46, CIFAR-10 Batch 4:  Loss: 0.0849 Validation Accuracy: 0.6860\n",
      "Epoch 46, CIFAR-10 Batch 5:  Loss: 0.0932 Validation Accuracy: 0.6742\n",
      "Epoch 47, CIFAR-10 Batch 1:  Loss: 0.0968 Validation Accuracy: 0.7128\n",
      "Epoch 47, CIFAR-10 Batch 2:  Loss: 0.0614 Validation Accuracy: 0.7078\n",
      "Epoch 47, CIFAR-10 Batch 3:  Loss: 0.0531 Validation Accuracy: 0.7062\n",
      "Epoch 47, CIFAR-10 Batch 4:  Loss: 0.0728 Validation Accuracy: 0.6930\n",
      "Epoch 47, CIFAR-10 Batch 5:  Loss: 0.0652 Validation Accuracy: 0.6968\n",
      "Epoch 48, CIFAR-10 Batch 1:  Loss: 0.0831 Validation Accuracy: 0.7152\n",
      "Epoch 48, CIFAR-10 Batch 2:  Loss: 0.0836 Validation Accuracy: 0.6910\n",
      "Epoch 48, CIFAR-10 Batch 3:  Loss: 0.0535 Validation Accuracy: 0.7044\n",
      "Epoch 48, CIFAR-10 Batch 4:  Loss: 0.0773 Validation Accuracy: 0.6918\n",
      "Epoch 48, CIFAR-10 Batch 5:  Loss: 0.0586 Validation Accuracy: 0.6918\n",
      "Epoch 49, CIFAR-10 Batch 1:  Loss: 0.1003 Validation Accuracy: 0.7046\n",
      "Epoch 49, CIFAR-10 Batch 2:  Loss: 0.0545 Validation Accuracy: 0.7114\n",
      "Epoch 49, CIFAR-10 Batch 3:  Loss: 0.0498 Validation Accuracy: 0.7040\n",
      "Epoch 49, CIFAR-10 Batch 4:  Loss: 0.0784 Validation Accuracy: 0.6972\n",
      "Epoch 49, CIFAR-10 Batch 5:  Loss: 0.0530 Validation Accuracy: 0.6982\n",
      "Epoch 50, CIFAR-10 Batch 1:  Loss: 0.0844 Validation Accuracy: 0.7048\n",
      "Epoch 50, CIFAR-10 Batch 2:  Loss: 0.0764 Validation Accuracy: 0.7096\n",
      "Epoch 50, CIFAR-10 Batch 3:  Loss: 0.0508 Validation Accuracy: 0.7056\n",
      "Epoch 50, CIFAR-10 Batch 4:  Loss: 0.0598 Validation Accuracy: 0.6940\n",
      "Epoch 50, CIFAR-10 Batch 5:  Loss: 0.0662 Validation Accuracy: 0.6954\n",
      "Epoch 51, CIFAR-10 Batch 1:  Loss: 0.0821 Validation Accuracy: 0.7034\n",
      "Epoch 51, CIFAR-10 Batch 2:  Loss: 0.0666 Validation Accuracy: 0.7062\n",
      "Epoch 51, CIFAR-10 Batch 3:  Loss: 0.0492 Validation Accuracy: 0.6972\n",
      "Epoch 51, CIFAR-10 Batch 4:  Loss: 0.0486 Validation Accuracy: 0.7028\n",
      "Epoch 51, CIFAR-10 Batch 5:  Loss: 0.0921 Validation Accuracy: 0.6880\n",
      "Epoch 52, CIFAR-10 Batch 1:  Loss: 0.0924 Validation Accuracy: 0.7048\n",
      "Epoch 52, CIFAR-10 Batch 2:  Loss: 0.0516 Validation Accuracy: 0.7094\n",
      "Epoch 52, CIFAR-10 Batch 3:  Loss: 0.0434 Validation Accuracy: 0.6968\n",
      "Epoch 52, CIFAR-10 Batch 4:  Loss: 0.0548 Validation Accuracy: 0.6956\n",
      "Epoch 52, CIFAR-10 Batch 5:  Loss: 0.0290 Validation Accuracy: 0.7110\n",
      "Epoch 53, CIFAR-10 Batch 1:  Loss: 0.0643 Validation Accuracy: 0.7108\n",
      "Epoch 53, CIFAR-10 Batch 2:  Loss: 0.0413 Validation Accuracy: 0.7060\n",
      "Epoch 53, CIFAR-10 Batch 3:  Loss: 0.0522 Validation Accuracy: 0.7008\n",
      "Epoch 53, CIFAR-10 Batch 4:  Loss: 0.0463 Validation Accuracy: 0.6900\n",
      "Epoch 53, CIFAR-10 Batch 5:  Loss: 0.0451 Validation Accuracy: 0.7032\n",
      "Epoch 54, CIFAR-10 Batch 1:  Loss: 0.0567 Validation Accuracy: 0.7052\n",
      "Epoch 54, CIFAR-10 Batch 2:  Loss: 0.0545 Validation Accuracy: 0.7058\n",
      "Epoch 54, CIFAR-10 Batch 3:  Loss: 0.0532 Validation Accuracy: 0.6996\n",
      "Epoch 54, CIFAR-10 Batch 4:  Loss: 0.0283 Validation Accuracy: 0.7042\n",
      "Epoch 54, CIFAR-10 Batch 5:  Loss: 0.0577 Validation Accuracy: 0.6994\n",
      "Epoch 55, CIFAR-10 Batch 1:  Loss: 0.0445 Validation Accuracy: 0.7100\n",
      "Epoch 55, CIFAR-10 Batch 2:  Loss: 0.0588 Validation Accuracy: 0.6978\n",
      "Epoch 55, CIFAR-10 Batch 3:  Loss: 0.0635 Validation Accuracy: 0.6726\n",
      "Epoch 55, CIFAR-10 Batch 4:  Loss: 0.0884 Validation Accuracy: 0.6838\n",
      "Epoch 55, CIFAR-10 Batch 5:  Loss: 0.0617 Validation Accuracy: 0.6888\n",
      "Epoch 56, CIFAR-10 Batch 1:  Loss: 0.0713 Validation Accuracy: 0.7116\n",
      "Epoch 56, CIFAR-10 Batch 2:  Loss: 0.0619 Validation Accuracy: 0.7006\n",
      "Epoch 56, CIFAR-10 Batch 3:  Loss: 0.0285 Validation Accuracy: 0.7158\n",
      "Epoch 56, CIFAR-10 Batch 4:  Loss: 0.0323 Validation Accuracy: 0.7074\n",
      "Epoch 56, CIFAR-10 Batch 5:  Loss: 0.0344 Validation Accuracy: 0.7056\n",
      "Epoch 57, CIFAR-10 Batch 1:  Loss: 0.0601 Validation Accuracy: 0.6994\n",
      "Epoch 57, CIFAR-10 Batch 2:  Loss: 0.0437 Validation Accuracy: 0.7184\n",
      "Epoch 57, CIFAR-10 Batch 3:  Loss: 0.0306 Validation Accuracy: 0.6874\n",
      "Epoch 57, CIFAR-10 Batch 4:  Loss: 0.0526 Validation Accuracy: 0.6888\n",
      "Epoch 57, CIFAR-10 Batch 5:  Loss: 0.0481 Validation Accuracy: 0.6816\n",
      "Epoch 58, CIFAR-10 Batch 1:  Loss: 0.0441 Validation Accuracy: 0.6976\n",
      "Epoch 58, CIFAR-10 Batch 2:  Loss: 0.0344 Validation Accuracy: 0.7134\n",
      "Epoch 58, CIFAR-10 Batch 3:  Loss: 0.0277 Validation Accuracy: 0.6974\n",
      "Epoch 58, CIFAR-10 Batch 4:  Loss: 0.0308 Validation Accuracy: 0.6994\n",
      "Epoch 58, CIFAR-10 Batch 5:  Loss: 0.0306 Validation Accuracy: 0.7052\n",
      "Epoch 59, CIFAR-10 Batch 1:  Loss: 0.0351 Validation Accuracy: 0.7034\n",
      "Epoch 59, CIFAR-10 Batch 2:  Loss: 0.0176 Validation Accuracy: 0.7294\n",
      "Epoch 59, CIFAR-10 Batch 3:  Loss: 0.0175 Validation Accuracy: 0.6994\n",
      "Epoch 59, CIFAR-10 Batch 4:  Loss: 0.0301 Validation Accuracy: 0.6998\n",
      "Epoch 59, CIFAR-10 Batch 5:  Loss: 0.0414 Validation Accuracy: 0.6988\n",
      "Epoch 60, CIFAR-10 Batch 1:  Loss: 0.0292 Validation Accuracy: 0.7090\n",
      "Epoch 60, CIFAR-10 Batch 2:  Loss: 0.0244 Validation Accuracy: 0.7140\n",
      "Epoch 60, CIFAR-10 Batch 3:  Loss: 0.0181 Validation Accuracy: 0.6994\n",
      "Epoch 60, CIFAR-10 Batch 4:  Loss: 0.0160 Validation Accuracy: 0.6968\n",
      "Epoch 60, CIFAR-10 Batch 5:  Loss: 0.0196 Validation Accuracy: 0.6992\n",
      "Epoch 61, CIFAR-10 Batch 1:  Loss: 0.0373 Validation Accuracy: 0.7174\n",
      "Epoch 61, CIFAR-10 Batch 2:  Loss: 0.0180 Validation Accuracy: 0.7028\n",
      "Epoch 61, CIFAR-10 Batch 3:  Loss: 0.0189 Validation Accuracy: 0.7036\n",
      "Epoch 61, CIFAR-10 Batch 4:  Loss: 0.0210 Validation Accuracy: 0.7014\n",
      "Epoch 61, CIFAR-10 Batch 5:  Loss: 0.0149 Validation Accuracy: 0.6996\n",
      "Epoch 62, CIFAR-10 Batch 1:  Loss: 0.0239 Validation Accuracy: 0.7010\n",
      "Epoch 62, CIFAR-10 Batch 2:  Loss: 0.0218 Validation Accuracy: 0.6946\n",
      "Epoch 62, CIFAR-10 Batch 3:  Loss: 0.0186 Validation Accuracy: 0.6968\n",
      "Epoch 62, CIFAR-10 Batch 4:  Loss: 0.0174 Validation Accuracy: 0.7094\n",
      "Epoch 62, CIFAR-10 Batch 5:  Loss: 0.0162 Validation Accuracy: 0.7036\n",
      "Epoch 63, CIFAR-10 Batch 1:  Loss: 0.0195 Validation Accuracy: 0.7154\n",
      "Epoch 63, CIFAR-10 Batch 2:  Loss: 0.0285 Validation Accuracy: 0.6884\n",
      "Epoch 63, CIFAR-10 Batch 3:  Loss: 0.0112 Validation Accuracy: 0.7008\n",
      "Epoch 63, CIFAR-10 Batch 4:  Loss: 0.0324 Validation Accuracy: 0.6970\n",
      "Epoch 63, CIFAR-10 Batch 5:  Loss: 0.0132 Validation Accuracy: 0.7032\n",
      "Epoch 64, CIFAR-10 Batch 1:  Loss: 0.0322 Validation Accuracy: 0.7038\n",
      "Epoch 64, CIFAR-10 Batch 2:  Loss: 0.0215 Validation Accuracy: 0.6984\n",
      "Epoch 64, CIFAR-10 Batch 3:  Loss: 0.0124 Validation Accuracy: 0.7014\n",
      "Epoch 64, CIFAR-10 Batch 4:  Loss: 0.0203 Validation Accuracy: 0.7076\n",
      "Epoch 64, CIFAR-10 Batch 5:  Loss: 0.0256 Validation Accuracy: 0.7076\n",
      "Epoch 65, CIFAR-10 Batch 1:  Loss: 0.0189 Validation Accuracy: 0.7038\n",
      "Epoch 65, CIFAR-10 Batch 2:  Loss: 0.0126 Validation Accuracy: 0.7134\n",
      "Epoch 65, CIFAR-10 Batch 3:  Loss: 0.0244 Validation Accuracy: 0.7076\n",
      "Epoch 65, CIFAR-10 Batch 4:  Loss: 0.0222 Validation Accuracy: 0.7052\n",
      "Epoch 65, CIFAR-10 Batch 5:  Loss: 0.0198 Validation Accuracy: 0.6974\n",
      "Epoch 66, CIFAR-10 Batch 1:  Loss: 0.0207 Validation Accuracy: 0.7144\n",
      "Epoch 66, CIFAR-10 Batch 2:  Loss: 0.0202 Validation Accuracy: 0.6992\n",
      "Epoch 66, CIFAR-10 Batch 3:  Loss: 0.0213 Validation Accuracy: 0.7100\n",
      "Epoch 66, CIFAR-10 Batch 4:  Loss: 0.0145 Validation Accuracy: 0.7162\n",
      "Epoch 66, CIFAR-10 Batch 5:  Loss: 0.0144 Validation Accuracy: 0.7058\n",
      "Epoch 67, CIFAR-10 Batch 1:  Loss: 0.0213 Validation Accuracy: 0.7058\n",
      "Epoch 67, CIFAR-10 Batch 2:  Loss: 0.0441 Validation Accuracy: 0.6868\n",
      "Epoch 67, CIFAR-10 Batch 3:  Loss: 0.0301 Validation Accuracy: 0.7158\n",
      "Epoch 67, CIFAR-10 Batch 4:  Loss: 0.0209 Validation Accuracy: 0.7068\n",
      "Epoch 67, CIFAR-10 Batch 5:  Loss: 0.0227 Validation Accuracy: 0.7006\n",
      "Epoch 68, CIFAR-10 Batch 1:  Loss: 0.0181 Validation Accuracy: 0.7122\n",
      "Epoch 68, CIFAR-10 Batch 2:  Loss: 0.0295 Validation Accuracy: 0.6994\n",
      "Epoch 68, CIFAR-10 Batch 3:  Loss: 0.0103 Validation Accuracy: 0.7124\n",
      "Epoch 68, CIFAR-10 Batch 4:  Loss: 0.0316 Validation Accuracy: 0.7090\n",
      "Epoch 68, CIFAR-10 Batch 5:  Loss: 0.0174 Validation Accuracy: 0.7040\n",
      "Epoch 69, CIFAR-10 Batch 1:  Loss: 0.0178 Validation Accuracy: 0.7160\n",
      "Epoch 69, CIFAR-10 Batch 2:  Loss: 0.0212 Validation Accuracy: 0.6984\n",
      "Epoch 69, CIFAR-10 Batch 3:  Loss: 0.0307 Validation Accuracy: 0.6940\n",
      "Epoch 69, CIFAR-10 Batch 4:  Loss: 0.0182 Validation Accuracy: 0.7162\n",
      "Epoch 69, CIFAR-10 Batch 5:  Loss: 0.0132 Validation Accuracy: 0.7058\n",
      "Epoch 70, CIFAR-10 Batch 1:  Loss: 0.0115 Validation Accuracy: 0.7144\n",
      "Epoch 70, CIFAR-10 Batch 2:  Loss: 0.0144 Validation Accuracy: 0.6960\n",
      "Epoch 70, CIFAR-10 Batch 3:  Loss: 0.0142 Validation Accuracy: 0.7066\n",
      "Epoch 70, CIFAR-10 Batch 4:  Loss: 0.0091 Validation Accuracy: 0.7086\n",
      "Epoch 70, CIFAR-10 Batch 5:  Loss: 0.0079 Validation Accuracy: 0.7102\n",
      "Epoch 71, CIFAR-10 Batch 1:  Loss: 0.0153 Validation Accuracy: 0.7146\n",
      "Epoch 71, CIFAR-10 Batch 2:  Loss: 0.0144 Validation Accuracy: 0.7040\n",
      "Epoch 71, CIFAR-10 Batch 3:  Loss: 0.0098 Validation Accuracy: 0.7146\n",
      "Epoch 71, CIFAR-10 Batch 4:  Loss: 0.0120 Validation Accuracy: 0.7140\n",
      "Epoch 71, CIFAR-10 Batch 5:  Loss: 0.0077 Validation Accuracy: 0.7210\n",
      "Epoch 72, CIFAR-10 Batch 1:  Loss: 0.0175 Validation Accuracy: 0.7106\n",
      "Epoch 72, CIFAR-10 Batch 2:  Loss: 0.0095 Validation Accuracy: 0.7124\n",
      "Epoch 72, CIFAR-10 Batch 3:  Loss: 0.0078 Validation Accuracy: 0.7128\n",
      "Epoch 72, CIFAR-10 Batch 4:  Loss: 0.0107 Validation Accuracy: 0.7148\n",
      "Epoch 72, CIFAR-10 Batch 5:  Loss: 0.0074 Validation Accuracy: 0.7084\n",
      "Epoch 73, CIFAR-10 Batch 1:  Loss: 0.0087 Validation Accuracy: 0.7170\n",
      "Epoch 73, CIFAR-10 Batch 2:  Loss: 0.0170 Validation Accuracy: 0.7076\n",
      "Epoch 73, CIFAR-10 Batch 3:  Loss: 0.0085 Validation Accuracy: 0.7012\n",
      "Epoch 73, CIFAR-10 Batch 4:  Loss: 0.0111 Validation Accuracy: 0.7128\n",
      "Epoch 73, CIFAR-10 Batch 5:  Loss: 0.0204 Validation Accuracy: 0.7046\n",
      "Epoch 74, CIFAR-10 Batch 1:  Loss: 0.0159 Validation Accuracy: 0.7110\n",
      "Epoch 74, CIFAR-10 Batch 2:  Loss: 0.0224 Validation Accuracy: 0.6992\n",
      "Epoch 74, CIFAR-10 Batch 3:  Loss: 0.0196 Validation Accuracy: 0.6926\n",
      "Epoch 74, CIFAR-10 Batch 4:  Loss: 0.0234 Validation Accuracy: 0.7102\n",
      "Epoch 74, CIFAR-10 Batch 5:  Loss: 0.0068 Validation Accuracy: 0.7140\n",
      "Epoch 75, CIFAR-10 Batch 1:  Loss: 0.0248 Validation Accuracy: 0.7126\n",
      "Epoch 75, CIFAR-10 Batch 2:  Loss: 0.0116 Validation Accuracy: 0.7146\n",
      "Epoch 75, CIFAR-10 Batch 3:  Loss: 0.0117 Validation Accuracy: 0.7066\n",
      "Epoch 75, CIFAR-10 Batch 4:  Loss: 0.0142 Validation Accuracy: 0.7118\n",
      "Epoch 75, CIFAR-10 Batch 5:  Loss: 0.0089 Validation Accuracy: 0.7138\n",
      "Epoch 76, CIFAR-10 Batch 1:  Loss: 0.0116 Validation Accuracy: 0.7080\n",
      "Epoch 76, CIFAR-10 Batch 2:  Loss: 0.0088 Validation Accuracy: 0.7206\n",
      "Epoch 76, CIFAR-10 Batch 3:  Loss: 0.0121 Validation Accuracy: 0.7048\n",
      "Epoch 76, CIFAR-10 Batch 4:  Loss: 0.0114 Validation Accuracy: 0.7030\n",
      "Epoch 76, CIFAR-10 Batch 5:  Loss: 0.0101 Validation Accuracy: 0.7102\n",
      "Epoch 77, CIFAR-10 Batch 1:  Loss: 0.0080 Validation Accuracy: 0.7222\n",
      "Epoch 77, CIFAR-10 Batch 2:  Loss: 0.0077 Validation Accuracy: 0.7174\n",
      "Epoch 77, CIFAR-10 Batch 3:  Loss: 0.0370 Validation Accuracy: 0.6866\n",
      "Epoch 77, CIFAR-10 Batch 4:  Loss: 0.0185 Validation Accuracy: 0.7010\n",
      "Epoch 77, CIFAR-10 Batch 5:  Loss: 0.0050 Validation Accuracy: 0.7048\n",
      "Epoch 78, CIFAR-10 Batch 1:  Loss: 0.0122 Validation Accuracy: 0.7186\n",
      "Epoch 78, CIFAR-10 Batch 2:  Loss: 0.0159 Validation Accuracy: 0.7052\n",
      "Epoch 78, CIFAR-10 Batch 3:  Loss: 0.0074 Validation Accuracy: 0.7122\n",
      "Epoch 78, CIFAR-10 Batch 4:  Loss: 0.0102 Validation Accuracy: 0.7016\n",
      "Epoch 78, CIFAR-10 Batch 5:  Loss: 0.0076 Validation Accuracy: 0.7130\n",
      "Epoch 79, CIFAR-10 Batch 1:  Loss: 0.0106 Validation Accuracy: 0.7224\n",
      "Epoch 79, CIFAR-10 Batch 2:  Loss: 0.0068 Validation Accuracy: 0.7170\n",
      "Epoch 79, CIFAR-10 Batch 3:  Loss: 0.0086 Validation Accuracy: 0.7108\n",
      "Epoch 79, CIFAR-10 Batch 4:  Loss: 0.0080 Validation Accuracy: 0.7042\n",
      "Epoch 79, CIFAR-10 Batch 5:  Loss: 0.0067 Validation Accuracy: 0.7112\n",
      "Epoch 80, CIFAR-10 Batch 1:  Loss: 0.0103 Validation Accuracy: 0.7080\n",
      "Epoch 80, CIFAR-10 Batch 2:  Loss: 0.0060 Validation Accuracy: 0.7132\n",
      "Epoch 80, CIFAR-10 Batch 3:  Loss: 0.0132 Validation Accuracy: 0.7102\n",
      "Epoch 80, CIFAR-10 Batch 4:  Loss: 0.0138 Validation Accuracy: 0.7000\n",
      "Epoch 80, CIFAR-10 Batch 5:  Loss: 0.0126 Validation Accuracy: 0.7054\n",
      "Epoch 81, CIFAR-10 Batch 1:  Loss: 0.0102 Validation Accuracy: 0.7188\n",
      "Epoch 81, CIFAR-10 Batch 2:  Loss: 0.0075 Validation Accuracy: 0.7078\n",
      "Epoch 81, CIFAR-10 Batch 3:  Loss: 0.0128 Validation Accuracy: 0.7064\n",
      "Epoch 81, CIFAR-10 Batch 4:  Loss: 0.0096 Validation Accuracy: 0.7094\n",
      "Epoch 81, CIFAR-10 Batch 5:  Loss: 0.0072 Validation Accuracy: 0.7048\n",
      "Epoch 82, CIFAR-10 Batch 1:  Loss: 0.0124 Validation Accuracy: 0.7064\n",
      "Epoch 82, CIFAR-10 Batch 2:  Loss: 0.0044 Validation Accuracy: 0.7152\n",
      "Epoch 82, CIFAR-10 Batch 3:  Loss: 0.0113 Validation Accuracy: 0.7034\n",
      "Epoch 82, CIFAR-10 Batch 4:  Loss: 0.0059 Validation Accuracy: 0.7104\n",
      "Epoch 82, CIFAR-10 Batch 5:  Loss: 0.0066 Validation Accuracy: 0.7108\n",
      "Epoch 83, CIFAR-10 Batch 1:  Loss: 0.0114 Validation Accuracy: 0.7174\n",
      "Epoch 83, CIFAR-10 Batch 2:  Loss: 0.0122 Validation Accuracy: 0.7150\n",
      "Epoch 83, CIFAR-10 Batch 3:  Loss: 0.0055 Validation Accuracy: 0.7040\n",
      "Epoch 83, CIFAR-10 Batch 4:  Loss: 0.0055 Validation Accuracy: 0.7062\n",
      "Epoch 83, CIFAR-10 Batch 5:  Loss: 0.0071 Validation Accuracy: 0.7046\n",
      "Epoch 84, CIFAR-10 Batch 1:  Loss: 0.0088 Validation Accuracy: 0.7078\n",
      "Epoch 84, CIFAR-10 Batch 2:  Loss: 0.0041 Validation Accuracy: 0.7122\n",
      "Epoch 84, CIFAR-10 Batch 3:  Loss: 0.0095 Validation Accuracy: 0.7090\n",
      "Epoch 84, CIFAR-10 Batch 4:  Loss: 0.0041 Validation Accuracy: 0.7212\n",
      "Epoch 84, CIFAR-10 Batch 5:  Loss: 0.0044 Validation Accuracy: 0.7128\n",
      "Epoch 85, CIFAR-10 Batch 1:  Loss: 0.0079 Validation Accuracy: 0.7200\n",
      "Epoch 85, CIFAR-10 Batch 2:  Loss: 0.0074 Validation Accuracy: 0.7164\n",
      "Epoch 85, CIFAR-10 Batch 3:  Loss: 0.0090 Validation Accuracy: 0.7082\n",
      "Epoch 85, CIFAR-10 Batch 4:  Loss: 0.0088 Validation Accuracy: 0.7138\n",
      "Epoch 85, CIFAR-10 Batch 5:  Loss: 0.0064 Validation Accuracy: 0.7066\n",
      "Epoch 86, CIFAR-10 Batch 1:  Loss: 0.0059 Validation Accuracy: 0.7136\n",
      "Epoch 86, CIFAR-10 Batch 2:  Loss: 0.0056 Validation Accuracy: 0.7188\n",
      "Epoch 86, CIFAR-10 Batch 3:  Loss: 0.0072 Validation Accuracy: 0.7150\n",
      "Epoch 86, CIFAR-10 Batch 4:  Loss: 0.0025 Validation Accuracy: 0.7186\n",
      "Epoch 86, CIFAR-10 Batch 5:  Loss: 0.0025 Validation Accuracy: 0.7064\n",
      "Epoch 87, CIFAR-10 Batch 1:  Loss: 0.0057 Validation Accuracy: 0.7210\n",
      "Epoch 87, CIFAR-10 Batch 2:  Loss: 0.0053 Validation Accuracy: 0.7190\n",
      "Epoch 87, CIFAR-10 Batch 3:  Loss: 0.0068 Validation Accuracy: 0.7102\n",
      "Epoch 87, CIFAR-10 Batch 4:  Loss: 0.0024 Validation Accuracy: 0.7234\n",
      "Epoch 87, CIFAR-10 Batch 5:  Loss: 0.0055 Validation Accuracy: 0.7112\n",
      "Epoch 88, CIFAR-10 Batch 1:  Loss: 0.0082 Validation Accuracy: 0.7136\n",
      "Epoch 88, CIFAR-10 Batch 2:  Loss: 0.0060 Validation Accuracy: 0.7196\n",
      "Epoch 88, CIFAR-10 Batch 3:  Loss: 0.0059 Validation Accuracy: 0.7122\n",
      "Epoch 88, CIFAR-10 Batch 4:  Loss: 0.0057 Validation Accuracy: 0.7148\n",
      "Epoch 88, CIFAR-10 Batch 5:  Loss: 0.0106 Validation Accuracy: 0.6998\n",
      "Epoch 89, CIFAR-10 Batch 1:  Loss: 0.0171 Validation Accuracy: 0.7074\n",
      "Epoch 89, CIFAR-10 Batch 2:  Loss: 0.0024 Validation Accuracy: 0.7102\n",
      "Epoch 89, CIFAR-10 Batch 3:  Loss: 0.0036 Validation Accuracy: 0.7146\n",
      "Epoch 89, CIFAR-10 Batch 4:  Loss: 0.0049 Validation Accuracy: 0.7094\n",
      "Epoch 89, CIFAR-10 Batch 5:  Loss: 0.0044 Validation Accuracy: 0.7122\n",
      "Epoch 90, CIFAR-10 Batch 1:  Loss: 0.0080 Validation Accuracy: 0.7094\n",
      "Epoch 90, CIFAR-10 Batch 2:  Loss: 0.0063 Validation Accuracy: 0.7266\n",
      "Epoch 90, CIFAR-10 Batch 3:  Loss: 0.0079 Validation Accuracy: 0.7180\n",
      "Epoch 90, CIFAR-10 Batch 4:  Loss: 0.0042 Validation Accuracy: 0.7084\n",
      "Epoch 90, CIFAR-10 Batch 5:  Loss: 0.0098 Validation Accuracy: 0.6924\n",
      "Epoch 91, CIFAR-10 Batch 1:  Loss: 0.0134 Validation Accuracy: 0.7076\n",
      "Epoch 91, CIFAR-10 Batch 2:  Loss: 0.0047 Validation Accuracy: 0.7198\n",
      "Epoch 91, CIFAR-10 Batch 3:  Loss: 0.0086 Validation Accuracy: 0.7182\n",
      "Epoch 91, CIFAR-10 Batch 4:  Loss: 0.0061 Validation Accuracy: 0.7196\n",
      "Epoch 91, CIFAR-10 Batch 5:  Loss: 0.0122 Validation Accuracy: 0.7016\n",
      "Epoch 92, CIFAR-10 Batch 1:  Loss: 0.0069 Validation Accuracy: 0.7096\n",
      "Epoch 92, CIFAR-10 Batch 2:  Loss: 0.0034 Validation Accuracy: 0.7266\n",
      "Epoch 92, CIFAR-10 Batch 3:  Loss: 0.0070 Validation Accuracy: 0.7054\n",
      "Epoch 92, CIFAR-10 Batch 4:  Loss: 0.0101 Validation Accuracy: 0.7146\n",
      "Epoch 92, CIFAR-10 Batch 5:  Loss: 0.0177 Validation Accuracy: 0.6888\n",
      "Epoch 93, CIFAR-10 Batch 1:  Loss: 0.0123 Validation Accuracy: 0.7010\n",
      "Epoch 93, CIFAR-10 Batch 2:  Loss: 0.0117 Validation Accuracy: 0.7158\n",
      "Epoch 93, CIFAR-10 Batch 3:  Loss: 0.0072 Validation Accuracy: 0.7046\n",
      "Epoch 93, CIFAR-10 Batch 4:  Loss: 0.0073 Validation Accuracy: 0.7208\n",
      "Epoch 93, CIFAR-10 Batch 5:  Loss: 0.0016 Validation Accuracy: 0.7090\n",
      "Epoch 94, CIFAR-10 Batch 1:  Loss: 0.0059 Validation Accuracy: 0.6934\n",
      "Epoch 94, CIFAR-10 Batch 2:  Loss: 0.0037 Validation Accuracy: 0.7124\n",
      "Epoch 94, CIFAR-10 Batch 3:  Loss: 0.0052 Validation Accuracy: 0.7088\n",
      "Epoch 94, CIFAR-10 Batch 4:  Loss: 0.0105 Validation Accuracy: 0.7116\n",
      "Epoch 94, CIFAR-10 Batch 5:  Loss: 0.0111 Validation Accuracy: 0.7018\n",
      "Epoch 95, CIFAR-10 Batch 1:  Loss: 0.0061 Validation Accuracy: 0.7082\n",
      "Epoch 95, CIFAR-10 Batch 2:  Loss: 0.0084 Validation Accuracy: 0.7098\n",
      "Epoch 95, CIFAR-10 Batch 3:  Loss: 0.0041 Validation Accuracy: 0.7108\n",
      "Epoch 95, CIFAR-10 Batch 4:  Loss: 0.0060 Validation Accuracy: 0.7152\n",
      "Epoch 95, CIFAR-10 Batch 5:  Loss: 0.0024 Validation Accuracy: 0.7004\n",
      "Epoch 96, CIFAR-10 Batch 1:  Loss: 0.0065 Validation Accuracy: 0.7082\n",
      "Epoch 96, CIFAR-10 Batch 2:  Loss: 0.0069 Validation Accuracy: 0.7162\n",
      "Epoch 96, CIFAR-10 Batch 3:  Loss: 0.0083 Validation Accuracy: 0.7090\n",
      "Epoch 96, CIFAR-10 Batch 4:  Loss: 0.0077 Validation Accuracy: 0.7174\n",
      "Epoch 96, CIFAR-10 Batch 5:  Loss: 0.0098 Validation Accuracy: 0.7018\n",
      "Epoch 97, CIFAR-10 Batch 1:  Loss: 0.0114 Validation Accuracy: 0.7046\n",
      "Epoch 97, CIFAR-10 Batch 2:  Loss: 0.0103 Validation Accuracy: 0.7020\n",
      "Epoch 97, CIFAR-10 Batch 3:  Loss: 0.0038 Validation Accuracy: 0.7194\n",
      "Epoch 97, CIFAR-10 Batch 4:  Loss: 0.0060 Validation Accuracy: 0.7114\n",
      "Epoch 97, CIFAR-10 Batch 5:  Loss: 0.0042 Validation Accuracy: 0.6990\n",
      "Epoch 98, CIFAR-10 Batch 1:  Loss: 0.0094 Validation Accuracy: 0.7010\n",
      "Epoch 98, CIFAR-10 Batch 2:  Loss: 0.0055 Validation Accuracy: 0.7118\n",
      "Epoch 98, CIFAR-10 Batch 3:  Loss: 0.0063 Validation Accuracy: 0.7134\n",
      "Epoch 98, CIFAR-10 Batch 4:  Loss: 0.0083 Validation Accuracy: 0.7190\n",
      "Epoch 98, CIFAR-10 Batch 5:  Loss: 0.0043 Validation Accuracy: 0.6990\n",
      "Epoch 99, CIFAR-10 Batch 1:  Loss: 0.0044 Validation Accuracy: 0.7068\n",
      "Epoch 99, CIFAR-10 Batch 2:  Loss: 0.0105 Validation Accuracy: 0.7132\n",
      "Epoch 99, CIFAR-10 Batch 3:  Loss: 0.0087 Validation Accuracy: 0.6974\n",
      "Epoch 99, CIFAR-10 Batch 4:  Loss: 0.0070 Validation Accuracy: 0.7096\n",
      "Epoch 99, CIFAR-10 Batch 5:  Loss: 0.0023 Validation Accuracy: 0.7018\n",
      "Epoch 100, CIFAR-10 Batch 1:  Loss: 0.0087 Validation Accuracy: 0.7110\n",
      "Epoch 100, CIFAR-10 Batch 2:  Loss: 0.0043 Validation Accuracy: 0.7088\n",
      "Epoch 100, CIFAR-10 Batch 3:  Loss: 0.0151 Validation Accuracy: 0.6980\n",
      "Epoch 100, CIFAR-10 Batch 4:  Loss: 0.0155 Validation Accuracy: 0.7120\n",
      "Epoch 100, CIFAR-10 Batch 5:  Loss: 0.0091 Validation Accuracy: 0.7028\n"
     ]
    }
   ],
   "source": [
    "\"\"\"\n",
    "DON'T MODIFY ANYTHING IN THIS CELL\n",
    "\"\"\"\n",
    "save_model_path = './image_classification'\n",
    "\n",
    "print('Training...')\n",
    "with tf.Session() as sess:\n",
    "    # Initializing the variables\n",
    "    sess.run(tf.global_variables_initializer())\n",
    "    \n",
    "    # Training cycle\n",
    "    for epoch in range(epochs):\n",
    "        # Loop over all batches\n",
    "        n_batches = 5\n",
    "        for batch_i in range(1, n_batches + 1):\n",
    "            for batch_features, batch_labels in helper.load_preprocess_training_batch(batch_i, batch_size):\n",
    "                train_neural_network(sess, optimizer, keep_probability, batch_features, batch_labels)\n",
    "            print('Epoch {:>2}, CIFAR-10 Batch {}:  '.format(epoch + 1, batch_i), end='')\n",
    "            print_stats(sess, batch_features, batch_labels, cost, accuracy)\n",
    "            \n",
    "    # Save Model\n",
    "    saver = tf.train.Saver()\n",
    "    save_path = saver.save(sess, save_model_path)"
   ]
  },
  {
   "cell_type": "markdown",
   "metadata": {
    "deletable": true,
    "editable": true
   },
   "source": [
    "# Checkpoint\n",
    "The model has been saved to disk.\n",
    "## Test Model\n",
    "Test your model against the test dataset.  This will be your final accuracy. You should have an accuracy greater than 50%. If you don't, keep tweaking the model architecture and parameters."
   ]
  },
  {
   "cell_type": "code",
   "execution_count": 20,
   "metadata": {
    "collapsed": false,
    "deletable": true,
    "editable": true
   },
   "outputs": [
    {
     "name": "stdout",
     "output_type": "stream",
     "text": [
      "Testing Accuracy: 0.6999540448188781\n",
      "\n"
     ]
    },
    {
     "data": {
      "image/png": "[encoded data removed]",
      "text/plain": [
       "<matplotlib.figure.Figure at 0x7fcb4b3240b8>"
      ]
     },
     "metadata": {
      "image/png": {
       "height": 319,
       "width": 355
      }
     },
     "output_type": "display_data"
    }
   ],
   "source": [
    "\"\"\"\n",
    "DON'T MODIFY ANYTHING IN THIS CELL\n",
    "\"\"\"\n",
    "%matplotlib inline\n",
    "%config InlineBackend.figure_format = 'retina'\n",
    "\n",
    "import tensorflow as tf\n",
    "import pickle\n",
    "import helper\n",
    "import random\n",
    "\n",
    "# Set batch size if not already set\n",
    "try:\n",
    "    if batch_size:\n",
    "        pass\n",
    "except NameError:\n",
    "    batch_size = 64\n",
    "\n",
    "save_model_path = './image_classification'\n",
    "n_samples = 4\n",
    "top_n_predictions = 3\n",
    "\n",
    "def test_model():\n",
    "    \"\"\"\n",
    "    Test the saved model against the test dataset\n",
    "    \"\"\"\n",
    "\n",
    "    test_features, test_labels = pickle.load(open('preprocess_training.p', mode='rb'))\n",
    "    loaded_graph = tf.Graph()\n",
    "\n",
    "    with tf.Session(graph=loaded_graph) as sess:\n",
    "        # Load model\n",
    "        loader = tf.train.import_meta_graph(save_model_path + '.meta')\n",
    "        loader.restore(sess, save_model_path)\n",
    "\n",
    "        # Get Tensors from loaded model\n",
    "        loaded_x = loaded_graph.get_tensor_by_name('x:0')\n",
    "        loaded_y = loaded_graph.get_tensor_by_name('y:0')\n",
    "        loaded_keep_prob = loaded_graph.get_tensor_by_name('keep_prob:0')\n",
    "        loaded_logits = loaded_graph.get_tensor_by_name('logits:0')\n",
    "        loaded_acc = loaded_graph.get_tensor_by_name('accuracy:0')\n",
    "        \n",
    "        # Get accuracy in batches for memory limitations\n",
    "        test_batch_acc_total = 0\n",
    "        test_batch_count = 0\n",
    "        \n",
    "        for train_feature_batch, train_label_batch in helper.batch_features_labels(test_features, test_labels, batch_size):\n",
    "            test_batch_acc_total += sess.run(\n",
    "                loaded_acc,\n",
    "                feed_dict={loaded_x: train_feature_batch, loaded_y: train_label_batch, loaded_keep_prob: 1.0})\n",
    "            test_batch_count += 1\n",
    "\n",
    "        print('Testing Accuracy: {}\\n'.format(test_batch_acc_total/test_batch_count))\n",
    "\n",
    "        # Print Random Samples\n",
    "        random_test_features, random_test_labels = tuple(zip(*random.sample(list(zip(test_features, test_labels)), n_samples)))\n",
    "        random_test_predictions = sess.run(\n",
    "            tf.nn.top_k(tf.nn.softmax(loaded_logits), top_n_predictions),\n",
    "            feed_dict={loaded_x: random_test_features, loaded_y: random_test_labels, loaded_keep_prob: 1.0})\n",
    "        helper.display_image_predictions(random_test_features, random_test_labels, random_test_predictions)\n",
    "\n",
    "\n",
    "test_model()"
   ]
  },
  {
   "cell_type": "markdown",
   "metadata": {
    "deletable": true,
    "editable": true
   },
   "source": [
    "## Why 50-70% Accuracy?\n",
    "You might be wondering why you can't get an accuracy any higher. First things first, 50% isn't bad for a simple CNN.  Pure guessing would get you 10% accuracy. However, you might notice people are getting scores [well above 70%](http://rodrigob.github.io/are_we_there_yet/build/classification_datasets_results.html#43494641522d3130).  That's because we haven't taught you all there is to know about neural networks. We still need to cover a few more techniques.\n",
    "## Submitting This Project\n",
    "When submitting this project, make sure to run all the cells before saving the notebook.  Save the notebook file as \"dlnd_image_classification.ipynb\" and save it as a HTML file under \"File\" -> \"Download as\".  Include the \"helper.py\" and \"problem_unittests.py\" files in your submission."
   ]
  },
  {
   "cell_type": "code",
   "execution_count": null,
   "metadata": {
    "collapsed": true
   },
   "outputs": [],
   "source": []
  }
 ],
 "metadata": {
  "kernelspec": {
   "display_name": "Python [default]",
   "language": "python",
   "name": "python3"
  },
  "language_info": {
   "codemirror_mode": {
    "name": "ipython",
    "version": 3
   },
   "file_extension": ".py",
   "mimetype": "text/x-python",
   "name": "python",
   "nbconvert_exporter": "python",
   "pygments_lexer": "ipython3",
   "version": "3.5.2"
  }
 },
 "nbformat": 4,
 "nbformat_minor": 0
}
